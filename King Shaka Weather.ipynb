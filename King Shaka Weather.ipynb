{
 "cells": [
  {
   "cell_type": "markdown",
   "id": "82ee4cf0",
   "metadata": {},
   "source": [
    "#### King Shaka International Airport Weather Prediction"
   ]
  },
  {
   "cell_type": "code",
   "execution_count": 140,
   "id": "6b78fa94",
   "metadata": {},
   "outputs": [],
   "source": [
    "import pandas as pd\n",
    "import numpy as np\n",
    "import matplotlib.pyplot as plt\n",
    "%matplotlib inline\n",
    "import seaborn as sns\n",
    "import warnings\n",
    "warnings.filterwarnings('ignore')"
   ]
  },
  {
   "cell_type": "code",
   "execution_count": 141,
   "id": "cd0dc3d3",
   "metadata": {},
   "outputs": [],
   "source": [
    "weather = pd.read_csv('king_shaka_weather.csv', index_col='DATE')"
   ]
  },
  {
   "cell_type": "code",
   "execution_count": 142,
   "id": "fae9a4e7",
   "metadata": {},
   "outputs": [
    {
     "data": {
      "text/html": [
       "<div>\n",
       "<style scoped>\n",
       "    .dataframe tbody tr th:only-of-type {\n",
       "        vertical-align: middle;\n",
       "    }\n",
       "\n",
       "    .dataframe tbody tr th {\n",
       "        vertical-align: top;\n",
       "    }\n",
       "\n",
       "    .dataframe thead th {\n",
       "        text-align: right;\n",
       "    }\n",
       "</style>\n",
       "<table border=\"1\" class=\"dataframe\">\n",
       "  <thead>\n",
       "    <tr style=\"text-align: right;\">\n",
       "      <th></th>\n",
       "      <th>STATION</th>\n",
       "      <th>NAME</th>\n",
       "      <th>PRCP</th>\n",
       "      <th>TAVG</th>\n",
       "      <th>TMAX</th>\n",
       "      <th>TMIN</th>\n",
       "    </tr>\n",
       "    <tr>\n",
       "      <th>DATE</th>\n",
       "      <th></th>\n",
       "      <th></th>\n",
       "      <th></th>\n",
       "      <th></th>\n",
       "      <th></th>\n",
       "      <th></th>\n",
       "    </tr>\n",
       "  </thead>\n",
       "  <tbody>\n",
       "    <tr>\n",
       "      <th>2010-04-30</th>\n",
       "      <td>SFM00068592</td>\n",
       "      <td>KING SHAKA INTERNATIONAL AIRPORT, SF</td>\n",
       "      <td>NaN</td>\n",
       "      <td>65</td>\n",
       "      <td>NaN</td>\n",
       "      <td>NaN</td>\n",
       "    </tr>\n",
       "    <tr>\n",
       "      <th>2010-05-01</th>\n",
       "      <td>SFM00068592</td>\n",
       "      <td>KING SHAKA INTERNATIONAL AIRPORT, SF</td>\n",
       "      <td>NaN</td>\n",
       "      <td>71</td>\n",
       "      <td>NaN</td>\n",
       "      <td>NaN</td>\n",
       "    </tr>\n",
       "    <tr>\n",
       "      <th>2010-05-02</th>\n",
       "      <td>SFM00068592</td>\n",
       "      <td>KING SHAKA INTERNATIONAL AIRPORT, SF</td>\n",
       "      <td>NaN</td>\n",
       "      <td>72</td>\n",
       "      <td>NaN</td>\n",
       "      <td>NaN</td>\n",
       "    </tr>\n",
       "    <tr>\n",
       "      <th>2010-05-03</th>\n",
       "      <td>SFM00068592</td>\n",
       "      <td>KING SHAKA INTERNATIONAL AIRPORT, SF</td>\n",
       "      <td>NaN</td>\n",
       "      <td>72</td>\n",
       "      <td>NaN</td>\n",
       "      <td>NaN</td>\n",
       "    </tr>\n",
       "    <tr>\n",
       "      <th>2010-05-04</th>\n",
       "      <td>SFM00068592</td>\n",
       "      <td>KING SHAKA INTERNATIONAL AIRPORT, SF</td>\n",
       "      <td>NaN</td>\n",
       "      <td>71</td>\n",
       "      <td>NaN</td>\n",
       "      <td>NaN</td>\n",
       "    </tr>\n",
       "    <tr>\n",
       "      <th>...</th>\n",
       "      <td>...</td>\n",
       "      <td>...</td>\n",
       "      <td>...</td>\n",
       "      <td>...</td>\n",
       "      <td>...</td>\n",
       "      <td>...</td>\n",
       "    </tr>\n",
       "    <tr>\n",
       "      <th>2022-11-06</th>\n",
       "      <td>SFM00068592</td>\n",
       "      <td>KING SHAKA INTERNATIONAL AIRPORT, SF</td>\n",
       "      <td>NaN</td>\n",
       "      <td>71</td>\n",
       "      <td>NaN</td>\n",
       "      <td>NaN</td>\n",
       "    </tr>\n",
       "    <tr>\n",
       "      <th>2022-11-07</th>\n",
       "      <td>SFM00068592</td>\n",
       "      <td>KING SHAKA INTERNATIONAL AIRPORT, SF</td>\n",
       "      <td>NaN</td>\n",
       "      <td>72</td>\n",
       "      <td>NaN</td>\n",
       "      <td>NaN</td>\n",
       "    </tr>\n",
       "    <tr>\n",
       "      <th>2022-11-08</th>\n",
       "      <td>SFM00068592</td>\n",
       "      <td>KING SHAKA INTERNATIONAL AIRPORT, SF</td>\n",
       "      <td>NaN</td>\n",
       "      <td>71</td>\n",
       "      <td>NaN</td>\n",
       "      <td>NaN</td>\n",
       "    </tr>\n",
       "    <tr>\n",
       "      <th>2022-11-09</th>\n",
       "      <td>SFM00068592</td>\n",
       "      <td>KING SHAKA INTERNATIONAL AIRPORT, SF</td>\n",
       "      <td>NaN</td>\n",
       "      <td>73</td>\n",
       "      <td>NaN</td>\n",
       "      <td>NaN</td>\n",
       "    </tr>\n",
       "    <tr>\n",
       "      <th>2022-11-10</th>\n",
       "      <td>SFM00068592</td>\n",
       "      <td>KING SHAKA INTERNATIONAL AIRPORT, SF</td>\n",
       "      <td>NaN</td>\n",
       "      <td>68</td>\n",
       "      <td>NaN</td>\n",
       "      <td>NaN</td>\n",
       "    </tr>\n",
       "  </tbody>\n",
       "</table>\n",
       "<p>4573 rows × 6 columns</p>\n",
       "</div>"
      ],
      "text/plain": [
       "                STATION                                  NAME  PRCP  TAVG  \\\n",
       "DATE                                                                        \n",
       "2010-04-30  SFM00068592  KING SHAKA INTERNATIONAL AIRPORT, SF   NaN    65   \n",
       "2010-05-01  SFM00068592  KING SHAKA INTERNATIONAL AIRPORT, SF   NaN    71   \n",
       "2010-05-02  SFM00068592  KING SHAKA INTERNATIONAL AIRPORT, SF   NaN    72   \n",
       "2010-05-03  SFM00068592  KING SHAKA INTERNATIONAL AIRPORT, SF   NaN    72   \n",
       "2010-05-04  SFM00068592  KING SHAKA INTERNATIONAL AIRPORT, SF   NaN    71   \n",
       "...                 ...                                   ...   ...   ...   \n",
       "2022-11-06  SFM00068592  KING SHAKA INTERNATIONAL AIRPORT, SF   NaN    71   \n",
       "2022-11-07  SFM00068592  KING SHAKA INTERNATIONAL AIRPORT, SF   NaN    72   \n",
       "2022-11-08  SFM00068592  KING SHAKA INTERNATIONAL AIRPORT, SF   NaN    71   \n",
       "2022-11-09  SFM00068592  KING SHAKA INTERNATIONAL AIRPORT, SF   NaN    73   \n",
       "2022-11-10  SFM00068592  KING SHAKA INTERNATIONAL AIRPORT, SF   NaN    68   \n",
       "\n",
       "            TMAX  TMIN  \n",
       "DATE                    \n",
       "2010-04-30   NaN   NaN  \n",
       "2010-05-01   NaN   NaN  \n",
       "2010-05-02   NaN   NaN  \n",
       "2010-05-03   NaN   NaN  \n",
       "2010-05-04   NaN   NaN  \n",
       "...          ...   ...  \n",
       "2022-11-06   NaN   NaN  \n",
       "2022-11-07   NaN   NaN  \n",
       "2022-11-08   NaN   NaN  \n",
       "2022-11-09   NaN   NaN  \n",
       "2022-11-10   NaN   NaN  \n",
       "\n",
       "[4573 rows x 6 columns]"
      ]
     },
     "execution_count": 142,
     "metadata": {},
     "output_type": "execute_result"
    }
   ],
   "source": [
    "weather"
   ]
  },
  {
   "cell_type": "code",
   "execution_count": 143,
   "id": "79be2baf",
   "metadata": {},
   "outputs": [
    {
     "data": {
      "text/plain": [
       "STATION    0.000000\n",
       "NAME       0.000000\n",
       "PRCP       0.594358\n",
       "TAVG       0.000000\n",
       "TMAX       0.230265\n",
       "TMIN       0.678548\n",
       "dtype: float64"
      ]
     },
     "execution_count": 143,
     "metadata": {},
     "output_type": "execute_result"
    }
   ],
   "source": [
    "# Look for missing values by percentage\n",
    "weather.apply(pd.isnull).sum()/weather.shape[0]"
   ]
  },
  {
   "cell_type": "code",
   "execution_count": 144,
   "id": "7f3e8d5a",
   "metadata": {},
   "outputs": [
    {
     "data": {
      "text/plain": [
       "2145"
      ]
     },
     "execution_count": 144,
     "metadata": {},
     "output_type": "execute_result"
    }
   ],
   "source": [
    "# Look for duplicates\n",
    "weather.duplicated().sum()"
   ]
  },
  {
   "cell_type": "code",
   "execution_count": 145,
   "id": "cb47b110",
   "metadata": {},
   "outputs": [
    {
     "data": {
      "text/plain": [
       "(array(['SFM00068592'], dtype=object),\n",
       " array(['KING SHAKA INTERNATIONAL AIRPORT, SF'], dtype=object))"
      ]
     },
     "execution_count": 145,
     "metadata": {},
     "output_type": "execute_result"
    }
   ],
   "source": [
    "weather['STATION'].unique(), weather['NAME'].unique()"
   ]
  },
  {
   "cell_type": "code",
   "execution_count": 146,
   "id": "c2c562d6",
   "metadata": {},
   "outputs": [
    {
     "data": {
      "text/html": [
       "<div>\n",
       "<style scoped>\n",
       "    .dataframe tbody tr th:only-of-type {\n",
       "        vertical-align: middle;\n",
       "    }\n",
       "\n",
       "    .dataframe tbody tr th {\n",
       "        vertical-align: top;\n",
       "    }\n",
       "\n",
       "    .dataframe thead th {\n",
       "        text-align: right;\n",
       "    }\n",
       "</style>\n",
       "<table border=\"1\" class=\"dataframe\">\n",
       "  <thead>\n",
       "    <tr style=\"text-align: right;\">\n",
       "      <th></th>\n",
       "      <th>STATION</th>\n",
       "      <th>NAME</th>\n",
       "      <th>PRCP</th>\n",
       "      <th>TAVG</th>\n",
       "      <th>TMAX</th>\n",
       "      <th>TMIN</th>\n",
       "    </tr>\n",
       "    <tr>\n",
       "      <th>DATE</th>\n",
       "      <th></th>\n",
       "      <th></th>\n",
       "      <th></th>\n",
       "      <th></th>\n",
       "      <th></th>\n",
       "      <th></th>\n",
       "    </tr>\n",
       "  </thead>\n",
       "  <tbody>\n",
       "    <tr>\n",
       "      <th>2010-04-30</th>\n",
       "      <td>SFM00068592</td>\n",
       "      <td>KING SHAKA INTERNATIONAL AIRPORT, SF</td>\n",
       "      <td>NaN</td>\n",
       "      <td>65</td>\n",
       "      <td>NaN</td>\n",
       "      <td>NaN</td>\n",
       "    </tr>\n",
       "    <tr>\n",
       "      <th>2010-05-01</th>\n",
       "      <td>SFM00068592</td>\n",
       "      <td>KING SHAKA INTERNATIONAL AIRPORT, SF</td>\n",
       "      <td>NaN</td>\n",
       "      <td>71</td>\n",
       "      <td>NaN</td>\n",
       "      <td>NaN</td>\n",
       "    </tr>\n",
       "    <tr>\n",
       "      <th>2010-05-02</th>\n",
       "      <td>SFM00068592</td>\n",
       "      <td>KING SHAKA INTERNATIONAL AIRPORT, SF</td>\n",
       "      <td>NaN</td>\n",
       "      <td>72</td>\n",
       "      <td>NaN</td>\n",
       "      <td>NaN</td>\n",
       "    </tr>\n",
       "    <tr>\n",
       "      <th>2010-05-03</th>\n",
       "      <td>SFM00068592</td>\n",
       "      <td>KING SHAKA INTERNATIONAL AIRPORT, SF</td>\n",
       "      <td>NaN</td>\n",
       "      <td>72</td>\n",
       "      <td>NaN</td>\n",
       "      <td>NaN</td>\n",
       "    </tr>\n",
       "    <tr>\n",
       "      <th>2010-05-04</th>\n",
       "      <td>SFM00068592</td>\n",
       "      <td>KING SHAKA INTERNATIONAL AIRPORT, SF</td>\n",
       "      <td>NaN</td>\n",
       "      <td>71</td>\n",
       "      <td>NaN</td>\n",
       "      <td>NaN</td>\n",
       "    </tr>\n",
       "  </tbody>\n",
       "</table>\n",
       "</div>"
      ],
      "text/plain": [
       "                STATION                                  NAME  PRCP  TAVG  \\\n",
       "DATE                                                                        \n",
       "2010-04-30  SFM00068592  KING SHAKA INTERNATIONAL AIRPORT, SF   NaN    65   \n",
       "2010-05-01  SFM00068592  KING SHAKA INTERNATIONAL AIRPORT, SF   NaN    71   \n",
       "2010-05-02  SFM00068592  KING SHAKA INTERNATIONAL AIRPORT, SF   NaN    72   \n",
       "2010-05-03  SFM00068592  KING SHAKA INTERNATIONAL AIRPORT, SF   NaN    72   \n",
       "2010-05-04  SFM00068592  KING SHAKA INTERNATIONAL AIRPORT, SF   NaN    71   \n",
       "\n",
       "            TMAX  TMIN  \n",
       "DATE                    \n",
       "2010-04-30   NaN   NaN  \n",
       "2010-05-01   NaN   NaN  \n",
       "2010-05-02   NaN   NaN  \n",
       "2010-05-03   NaN   NaN  \n",
       "2010-05-04   NaN   NaN  "
      ]
     },
     "execution_count": 146,
     "metadata": {},
     "output_type": "execute_result"
    }
   ],
   "source": [
    "weather.head()"
   ]
  },
  {
   "cell_type": "code",
   "execution_count": 147,
   "id": "6d578755",
   "metadata": {},
   "outputs": [],
   "source": [
    "core_weather = weather[['PRCP', 'TAVG', 'TMAX', 'TMIN']].copy()\n",
    "core_weather.columns = ['precipitation', 'avg_temp', 'max_temp', 'min_temp']"
   ]
  },
  {
   "cell_type": "code",
   "execution_count": 148,
   "id": "f3d299c7",
   "metadata": {},
   "outputs": [
    {
     "data": {
      "text/html": [
       "<div>\n",
       "<style scoped>\n",
       "    .dataframe tbody tr th:only-of-type {\n",
       "        vertical-align: middle;\n",
       "    }\n",
       "\n",
       "    .dataframe tbody tr th {\n",
       "        vertical-align: top;\n",
       "    }\n",
       "\n",
       "    .dataframe thead th {\n",
       "        text-align: right;\n",
       "    }\n",
       "</style>\n",
       "<table border=\"1\" class=\"dataframe\">\n",
       "  <thead>\n",
       "    <tr style=\"text-align: right;\">\n",
       "      <th></th>\n",
       "      <th>precipitation</th>\n",
       "      <th>avg_temp</th>\n",
       "      <th>max_temp</th>\n",
       "      <th>min_temp</th>\n",
       "    </tr>\n",
       "    <tr>\n",
       "      <th>DATE</th>\n",
       "      <th></th>\n",
       "      <th></th>\n",
       "      <th></th>\n",
       "      <th></th>\n",
       "    </tr>\n",
       "  </thead>\n",
       "  <tbody>\n",
       "    <tr>\n",
       "      <th>2010-04-30</th>\n",
       "      <td>NaN</td>\n",
       "      <td>65</td>\n",
       "      <td>NaN</td>\n",
       "      <td>NaN</td>\n",
       "    </tr>\n",
       "    <tr>\n",
       "      <th>2010-05-01</th>\n",
       "      <td>NaN</td>\n",
       "      <td>71</td>\n",
       "      <td>NaN</td>\n",
       "      <td>NaN</td>\n",
       "    </tr>\n",
       "    <tr>\n",
       "      <th>2010-05-02</th>\n",
       "      <td>NaN</td>\n",
       "      <td>72</td>\n",
       "      <td>NaN</td>\n",
       "      <td>NaN</td>\n",
       "    </tr>\n",
       "    <tr>\n",
       "      <th>2010-05-03</th>\n",
       "      <td>NaN</td>\n",
       "      <td>72</td>\n",
       "      <td>NaN</td>\n",
       "      <td>NaN</td>\n",
       "    </tr>\n",
       "    <tr>\n",
       "      <th>2010-05-04</th>\n",
       "      <td>NaN</td>\n",
       "      <td>71</td>\n",
       "      <td>NaN</td>\n",
       "      <td>NaN</td>\n",
       "    </tr>\n",
       "    <tr>\n",
       "      <th>...</th>\n",
       "      <td>...</td>\n",
       "      <td>...</td>\n",
       "      <td>...</td>\n",
       "      <td>...</td>\n",
       "    </tr>\n",
       "    <tr>\n",
       "      <th>2022-11-06</th>\n",
       "      <td>NaN</td>\n",
       "      <td>71</td>\n",
       "      <td>NaN</td>\n",
       "      <td>NaN</td>\n",
       "    </tr>\n",
       "    <tr>\n",
       "      <th>2022-11-07</th>\n",
       "      <td>NaN</td>\n",
       "      <td>72</td>\n",
       "      <td>NaN</td>\n",
       "      <td>NaN</td>\n",
       "    </tr>\n",
       "    <tr>\n",
       "      <th>2022-11-08</th>\n",
       "      <td>NaN</td>\n",
       "      <td>71</td>\n",
       "      <td>NaN</td>\n",
       "      <td>NaN</td>\n",
       "    </tr>\n",
       "    <tr>\n",
       "      <th>2022-11-09</th>\n",
       "      <td>NaN</td>\n",
       "      <td>73</td>\n",
       "      <td>NaN</td>\n",
       "      <td>NaN</td>\n",
       "    </tr>\n",
       "    <tr>\n",
       "      <th>2022-11-10</th>\n",
       "      <td>NaN</td>\n",
       "      <td>68</td>\n",
       "      <td>NaN</td>\n",
       "      <td>NaN</td>\n",
       "    </tr>\n",
       "  </tbody>\n",
       "</table>\n",
       "<p>4573 rows × 4 columns</p>\n",
       "</div>"
      ],
      "text/plain": [
       "            precipitation  avg_temp  max_temp  min_temp\n",
       "DATE                                                   \n",
       "2010-04-30            NaN        65       NaN       NaN\n",
       "2010-05-01            NaN        71       NaN       NaN\n",
       "2010-05-02            NaN        72       NaN       NaN\n",
       "2010-05-03            NaN        72       NaN       NaN\n",
       "2010-05-04            NaN        71       NaN       NaN\n",
       "...                   ...       ...       ...       ...\n",
       "2022-11-06            NaN        71       NaN       NaN\n",
       "2022-11-07            NaN        72       NaN       NaN\n",
       "2022-11-08            NaN        71       NaN       NaN\n",
       "2022-11-09            NaN        73       NaN       NaN\n",
       "2022-11-10            NaN        68       NaN       NaN\n",
       "\n",
       "[4573 rows x 4 columns]"
      ]
     },
     "execution_count": 148,
     "metadata": {},
     "output_type": "execute_result"
    }
   ],
   "source": [
    "core_weather"
   ]
  },
  {
   "cell_type": "code",
   "execution_count": 152,
   "id": "810084f3",
   "metadata": {},
   "outputs": [
    {
     "data": {
      "image/png": "[encoded data removed]",
      "text/plain": [
       "<Figure size 640x480 with 2 Axes>"
      ]
     },
     "metadata": {},
     "output_type": "display_data"
    }
   ],
   "source": [
    "# correlation\n",
    "sns.heatmap(core_weather.corr(), annot =True, cmap='Oranges',linewidth=1.0);"
   ]
  },
  {
   "cell_type": "code",
   "execution_count": 10,
   "id": "b9d85d01",
   "metadata": {},
   "outputs": [
    {
     "data": {
      "text/plain": [
       "precipitation    2718\n",
       "avg_temp            0\n",
       "max_temp         1053\n",
       "min_temp         3103\n",
       "dtype: int64"
      ]
     },
     "execution_count": 10,
     "metadata": {},
     "output_type": "execute_result"
    }
   ],
   "source": [
    "# Look for missing values\n",
    "core_weather.apply(pd.isnull).sum()"
   ]
  },
  {
   "cell_type": "code",
   "execution_count": 11,
   "id": "ae8e73ff",
   "metadata": {},
   "outputs": [
    {
     "data": {
      "text/plain": [
       "0.00    0.132954\n",
       "0.01    0.044391\n",
       "0.02    0.033457\n",
       "0.04    0.030833\n",
       "0.08    0.020993\n",
       "          ...   \n",
       "2.36    0.000219\n",
       "1.67    0.000219\n",
       "0.23    0.000219\n",
       "1.77    0.000219\n",
       "2.83    0.000219\n",
       "Name: precipitation, Length: 105, dtype: float64"
      ]
     },
     "execution_count": 11,
     "metadata": {},
     "output_type": "execute_result"
    }
   ],
   "source": [
    "core_weather['precipitation'].value_counts() / core_weather.shape[0]"
   ]
  },
  {
   "cell_type": "code",
   "execution_count": 12,
   "id": "8fd6b1b4",
   "metadata": {},
   "outputs": [
    {
     "data": {
      "text/plain": [
       "0.00    608\n",
       "0.01    203\n",
       "0.02    153\n",
       "0.04    141\n",
       "0.08     96\n",
       "       ... \n",
       "2.36      1\n",
       "1.67      1\n",
       "0.23      1\n",
       "1.77      1\n",
       "2.83      1\n",
       "Name: precipitation, Length: 105, dtype: int64"
      ]
     },
     "execution_count": 12,
     "metadata": {},
     "output_type": "execute_result"
    }
   ],
   "source": [
    "core_weather['precipitation'].value_counts() "
   ]
  },
  {
   "cell_type": "code",
   "execution_count": 13,
   "id": "37de3845",
   "metadata": {},
   "outputs": [
    {
     "data": {
      "text/plain": [
       "(0.17040970350404333,\n",
       " 0    0.0\n",
       " Name: precipitation, dtype: float64)"
      ]
     },
     "execution_count": 13,
     "metadata": {},
     "output_type": "execute_result"
    }
   ],
   "source": [
    "core_weather['precipitation'].mean(), core_weather['precipitation'].mode()"
   ]
  },
  {
   "cell_type": "code",
   "execution_count": 22,
   "id": "fbc1d5c0",
   "metadata": {},
   "outputs": [
    {
     "data": {
      "text/plain": [
       "precipitation     0.17\n",
       "avg_temp         71.00\n",
       "max_temp           NaN\n",
       "min_temp           NaN\n",
       "Name: 2022-11-06, dtype: float64"
      ]
     },
     "execution_count": 22,
     "metadata": {},
     "output_type": "execute_result"
    }
   ],
   "source": [
    "core_weather.loc['2022-11-06',:]"
   ]
  },
  {
   "cell_type": "code",
   "execution_count": 17,
   "id": "8058f04b",
   "metadata": {},
   "outputs": [],
   "source": [
    "# KZN is prone to rainfall, so we fill with the mean\n",
    "core_weather['precipitation'] = core_weather['precipitation'].fillna(0.170)"
   ]
  },
  {
   "cell_type": "code",
   "execution_count": 19,
   "id": "d686ef65",
   "metadata": {},
   "outputs": [
    {
     "data": {
      "text/plain": [
       "precipitation       0\n",
       "avg_temp            0\n",
       "max_temp         1053\n",
       "min_temp         3103\n",
       "dtype: int64"
      ]
     },
     "execution_count": 19,
     "metadata": {},
     "output_type": "execute_result"
    }
   ],
   "source": [
    "core_weather.apply(pd.isnull).sum()"
   ]
  },
  {
   "cell_type": "code",
   "execution_count": 25,
   "id": "24df9f87",
   "metadata": {},
   "outputs": [
    {
     "data": {
      "text/html": [
       "<div>\n",
       "<style scoped>\n",
       "    .dataframe tbody tr th:only-of-type {\n",
       "        vertical-align: middle;\n",
       "    }\n",
       "\n",
       "    .dataframe tbody tr th {\n",
       "        vertical-align: top;\n",
       "    }\n",
       "\n",
       "    .dataframe thead th {\n",
       "        text-align: right;\n",
       "    }\n",
       "</style>\n",
       "<table border=\"1\" class=\"dataframe\">\n",
       "  <thead>\n",
       "    <tr style=\"text-align: right;\">\n",
       "      <th></th>\n",
       "      <th>precipitation</th>\n",
       "      <th>avg_temp</th>\n",
       "      <th>max_temp</th>\n",
       "      <th>min_temp</th>\n",
       "    </tr>\n",
       "    <tr>\n",
       "      <th>DATE</th>\n",
       "      <th></th>\n",
       "      <th></th>\n",
       "      <th></th>\n",
       "      <th></th>\n",
       "    </tr>\n",
       "  </thead>\n",
       "  <tbody>\n",
       "    <tr>\n",
       "      <th>2010-04-30</th>\n",
       "      <td>0.17</td>\n",
       "      <td>65</td>\n",
       "      <td>NaN</td>\n",
       "      <td>NaN</td>\n",
       "    </tr>\n",
       "    <tr>\n",
       "      <th>2010-05-01</th>\n",
       "      <td>0.17</td>\n",
       "      <td>71</td>\n",
       "      <td>NaN</td>\n",
       "      <td>NaN</td>\n",
       "    </tr>\n",
       "    <tr>\n",
       "      <th>2010-05-02</th>\n",
       "      <td>0.17</td>\n",
       "      <td>72</td>\n",
       "      <td>NaN</td>\n",
       "      <td>NaN</td>\n",
       "    </tr>\n",
       "    <tr>\n",
       "      <th>2010-05-03</th>\n",
       "      <td>0.17</td>\n",
       "      <td>72</td>\n",
       "      <td>NaN</td>\n",
       "      <td>NaN</td>\n",
       "    </tr>\n",
       "    <tr>\n",
       "      <th>2010-05-04</th>\n",
       "      <td>0.17</td>\n",
       "      <td>71</td>\n",
       "      <td>NaN</td>\n",
       "      <td>NaN</td>\n",
       "    </tr>\n",
       "    <tr>\n",
       "      <th>...</th>\n",
       "      <td>...</td>\n",
       "      <td>...</td>\n",
       "      <td>...</td>\n",
       "      <td>...</td>\n",
       "    </tr>\n",
       "    <tr>\n",
       "      <th>2022-11-06</th>\n",
       "      <td>0.17</td>\n",
       "      <td>71</td>\n",
       "      <td>NaN</td>\n",
       "      <td>NaN</td>\n",
       "    </tr>\n",
       "    <tr>\n",
       "      <th>2022-11-07</th>\n",
       "      <td>0.17</td>\n",
       "      <td>72</td>\n",
       "      <td>NaN</td>\n",
       "      <td>NaN</td>\n",
       "    </tr>\n",
       "    <tr>\n",
       "      <th>2022-11-08</th>\n",
       "      <td>0.17</td>\n",
       "      <td>71</td>\n",
       "      <td>NaN</td>\n",
       "      <td>NaN</td>\n",
       "    </tr>\n",
       "    <tr>\n",
       "      <th>2022-11-09</th>\n",
       "      <td>0.17</td>\n",
       "      <td>73</td>\n",
       "      <td>NaN</td>\n",
       "      <td>NaN</td>\n",
       "    </tr>\n",
       "    <tr>\n",
       "      <th>2022-11-10</th>\n",
       "      <td>0.17</td>\n",
       "      <td>68</td>\n",
       "      <td>NaN</td>\n",
       "      <td>NaN</td>\n",
       "    </tr>\n",
       "  </tbody>\n",
       "</table>\n",
       "<p>3103 rows × 4 columns</p>\n",
       "</div>"
      ],
      "text/plain": [
       "            precipitation  avg_temp  max_temp  min_temp\n",
       "DATE                                                   \n",
       "2010-04-30           0.17        65       NaN       NaN\n",
       "2010-05-01           0.17        71       NaN       NaN\n",
       "2010-05-02           0.17        72       NaN       NaN\n",
       "2010-05-03           0.17        72       NaN       NaN\n",
       "2010-05-04           0.17        71       NaN       NaN\n",
       "...                   ...       ...       ...       ...\n",
       "2022-11-06           0.17        71       NaN       NaN\n",
       "2022-11-07           0.17        72       NaN       NaN\n",
       "2022-11-08           0.17        71       NaN       NaN\n",
       "2022-11-09           0.17        73       NaN       NaN\n",
       "2022-11-10           0.17        68       NaN       NaN\n",
       "\n",
       "[3103 rows x 4 columns]"
      ]
     },
     "execution_count": 25,
     "metadata": {},
     "output_type": "execute_result"
    }
   ],
   "source": [
    "core_weather[pd.isnull(core_weather['min_temp'])]"
   ]
  },
  {
   "cell_type": "code",
   "execution_count": 26,
   "id": "6db02415",
   "metadata": {},
   "outputs": [
    {
     "data": {
      "text/plain": [
       "array([nan, 55., 53., 51., 60., 54., 52., 49., 59., 58., 50., 40., 61.,\n",
       "       66., 67., 63., 62., 64., 57., 65., 56., 69., 70., 71., 68., 72.,\n",
       "       73., 48., 45., 46., 47., 74., 32., 36., 43., 44.])"
      ]
     },
     "execution_count": 26,
     "metadata": {},
     "output_type": "execute_result"
    }
   ],
   "source": [
    "core_weather['min_temp'].unique()"
   ]
  },
  {
   "cell_type": "code",
   "execution_count": 27,
   "id": "9145bcf1",
   "metadata": {},
   "outputs": [
    {
     "data": {
      "text/html": [
       "<div>\n",
       "<style scoped>\n",
       "    .dataframe tbody tr th:only-of-type {\n",
       "        vertical-align: middle;\n",
       "    }\n",
       "\n",
       "    .dataframe tbody tr th {\n",
       "        vertical-align: top;\n",
       "    }\n",
       "\n",
       "    .dataframe thead th {\n",
       "        text-align: right;\n",
       "    }\n",
       "</style>\n",
       "<table border=\"1\" class=\"dataframe\">\n",
       "  <thead>\n",
       "    <tr style=\"text-align: right;\">\n",
       "      <th></th>\n",
       "      <th>precipitation</th>\n",
       "      <th>avg_temp</th>\n",
       "      <th>max_temp</th>\n",
       "      <th>min_temp</th>\n",
       "    </tr>\n",
       "    <tr>\n",
       "      <th>DATE</th>\n",
       "      <th></th>\n",
       "      <th></th>\n",
       "      <th></th>\n",
       "      <th></th>\n",
       "    </tr>\n",
       "  </thead>\n",
       "  <tbody>\n",
       "    <tr>\n",
       "      <th>2010-05-02</th>\n",
       "      <td>0.17</td>\n",
       "      <td>72</td>\n",
       "      <td>NaN</td>\n",
       "      <td>NaN</td>\n",
       "    </tr>\n",
       "    <tr>\n",
       "      <th>2010-05-03</th>\n",
       "      <td>0.17</td>\n",
       "      <td>72</td>\n",
       "      <td>NaN</td>\n",
       "      <td>NaN</td>\n",
       "    </tr>\n",
       "    <tr>\n",
       "      <th>2010-05-04</th>\n",
       "      <td>0.17</td>\n",
       "      <td>71</td>\n",
       "      <td>NaN</td>\n",
       "      <td>NaN</td>\n",
       "    </tr>\n",
       "    <tr>\n",
       "      <th>2010-05-05</th>\n",
       "      <td>0.17</td>\n",
       "      <td>72</td>\n",
       "      <td>NaN</td>\n",
       "      <td>NaN</td>\n",
       "    </tr>\n",
       "    <tr>\n",
       "      <th>2010-05-06</th>\n",
       "      <td>0.17</td>\n",
       "      <td>72</td>\n",
       "      <td>NaN</td>\n",
       "      <td>NaN</td>\n",
       "    </tr>\n",
       "    <tr>\n",
       "      <th>...</th>\n",
       "      <td>...</td>\n",
       "      <td>...</td>\n",
       "      <td>...</td>\n",
       "      <td>...</td>\n",
       "    </tr>\n",
       "    <tr>\n",
       "      <th>2022-10-28</th>\n",
       "      <td>0.17</td>\n",
       "      <td>68</td>\n",
       "      <td>NaN</td>\n",
       "      <td>NaN</td>\n",
       "    </tr>\n",
       "    <tr>\n",
       "      <th>2022-10-29</th>\n",
       "      <td>0.17</td>\n",
       "      <td>70</td>\n",
       "      <td>NaN</td>\n",
       "      <td>NaN</td>\n",
       "    </tr>\n",
       "    <tr>\n",
       "      <th>2022-10-30</th>\n",
       "      <td>0.17</td>\n",
       "      <td>73</td>\n",
       "      <td>NaN</td>\n",
       "      <td>NaN</td>\n",
       "    </tr>\n",
       "    <tr>\n",
       "      <th>2022-10-31</th>\n",
       "      <td>0.17</td>\n",
       "      <td>63</td>\n",
       "      <td>NaN</td>\n",
       "      <td>NaN</td>\n",
       "    </tr>\n",
       "    <tr>\n",
       "      <th>2022-11-01</th>\n",
       "      <td>0.17</td>\n",
       "      <td>63</td>\n",
       "      <td>NaN</td>\n",
       "      <td>NaN</td>\n",
       "    </tr>\n",
       "  </tbody>\n",
       "</table>\n",
       "<p>4562 rows × 4 columns</p>\n",
       "</div>"
      ],
      "text/plain": [
       "            precipitation  avg_temp  max_temp  min_temp\n",
       "DATE                                                   \n",
       "2010-05-02           0.17        72       NaN       NaN\n",
       "2010-05-03           0.17        72       NaN       NaN\n",
       "2010-05-04           0.17        71       NaN       NaN\n",
       "2010-05-05           0.17        72       NaN       NaN\n",
       "2010-05-06           0.17        72       NaN       NaN\n",
       "...                   ...       ...       ...       ...\n",
       "2022-10-28           0.17        68       NaN       NaN\n",
       "2022-10-29           0.17        70       NaN       NaN\n",
       "2022-10-30           0.17        73       NaN       NaN\n",
       "2022-10-31           0.17        63       NaN       NaN\n",
       "2022-11-01           0.17        63       NaN       NaN\n",
       "\n",
       "[4562 rows x 4 columns]"
      ]
     },
     "execution_count": 27,
     "metadata": {},
     "output_type": "execute_result"
    }
   ],
   "source": [
    "core_weather.loc['2010-05-02':'2022-11-01']"
   ]
  },
  {
   "cell_type": "code",
   "execution_count": 30,
   "id": "0d4e884a",
   "metadata": {},
   "outputs": [],
   "source": [
    "# Back and forward fill\n",
    "core_weather = core_weather.bfill().ffill()"
   ]
  },
  {
   "cell_type": "code",
   "execution_count": 31,
   "id": "dd3115b9",
   "metadata": {},
   "outputs": [
    {
     "data": {
      "text/html": [
       "<div>\n",
       "<style scoped>\n",
       "    .dataframe tbody tr th:only-of-type {\n",
       "        vertical-align: middle;\n",
       "    }\n",
       "\n",
       "    .dataframe tbody tr th {\n",
       "        vertical-align: top;\n",
       "    }\n",
       "\n",
       "    .dataframe thead th {\n",
       "        text-align: right;\n",
       "    }\n",
       "</style>\n",
       "<table border=\"1\" class=\"dataframe\">\n",
       "  <thead>\n",
       "    <tr style=\"text-align: right;\">\n",
       "      <th></th>\n",
       "      <th>precipitation</th>\n",
       "      <th>avg_temp</th>\n",
       "      <th>max_temp</th>\n",
       "      <th>min_temp</th>\n",
       "    </tr>\n",
       "    <tr>\n",
       "      <th>DATE</th>\n",
       "      <th></th>\n",
       "      <th></th>\n",
       "      <th></th>\n",
       "      <th></th>\n",
       "    </tr>\n",
       "  </thead>\n",
       "  <tbody>\n",
       "    <tr>\n",
       "      <th>2010-04-30</th>\n",
       "      <td>0.17</td>\n",
       "      <td>65</td>\n",
       "      <td>74.0</td>\n",
       "      <td>55.0</td>\n",
       "    </tr>\n",
       "    <tr>\n",
       "      <th>2010-05-01</th>\n",
       "      <td>0.17</td>\n",
       "      <td>71</td>\n",
       "      <td>74.0</td>\n",
       "      <td>55.0</td>\n",
       "    </tr>\n",
       "    <tr>\n",
       "      <th>2010-05-02</th>\n",
       "      <td>0.17</td>\n",
       "      <td>72</td>\n",
       "      <td>74.0</td>\n",
       "      <td>55.0</td>\n",
       "    </tr>\n",
       "    <tr>\n",
       "      <th>2010-05-03</th>\n",
       "      <td>0.17</td>\n",
       "      <td>72</td>\n",
       "      <td>74.0</td>\n",
       "      <td>55.0</td>\n",
       "    </tr>\n",
       "    <tr>\n",
       "      <th>2010-05-04</th>\n",
       "      <td>0.17</td>\n",
       "      <td>71</td>\n",
       "      <td>74.0</td>\n",
       "      <td>55.0</td>\n",
       "    </tr>\n",
       "    <tr>\n",
       "      <th>...</th>\n",
       "      <td>...</td>\n",
       "      <td>...</td>\n",
       "      <td>...</td>\n",
       "      <td>...</td>\n",
       "    </tr>\n",
       "    <tr>\n",
       "      <th>2022-11-06</th>\n",
       "      <td>0.17</td>\n",
       "      <td>71</td>\n",
       "      <td>83.0</td>\n",
       "      <td>50.0</td>\n",
       "    </tr>\n",
       "    <tr>\n",
       "      <th>2022-11-07</th>\n",
       "      <td>0.17</td>\n",
       "      <td>72</td>\n",
       "      <td>83.0</td>\n",
       "      <td>50.0</td>\n",
       "    </tr>\n",
       "    <tr>\n",
       "      <th>2022-11-08</th>\n",
       "      <td>0.17</td>\n",
       "      <td>71</td>\n",
       "      <td>83.0</td>\n",
       "      <td>50.0</td>\n",
       "    </tr>\n",
       "    <tr>\n",
       "      <th>2022-11-09</th>\n",
       "      <td>0.17</td>\n",
       "      <td>73</td>\n",
       "      <td>83.0</td>\n",
       "      <td>50.0</td>\n",
       "    </tr>\n",
       "    <tr>\n",
       "      <th>2022-11-10</th>\n",
       "      <td>0.17</td>\n",
       "      <td>68</td>\n",
       "      <td>83.0</td>\n",
       "      <td>50.0</td>\n",
       "    </tr>\n",
       "  </tbody>\n",
       "</table>\n",
       "<p>4573 rows × 4 columns</p>\n",
       "</div>"
      ],
      "text/plain": [
       "            precipitation  avg_temp  max_temp  min_temp\n",
       "DATE                                                   \n",
       "2010-04-30           0.17        65      74.0      55.0\n",
       "2010-05-01           0.17        71      74.0      55.0\n",
       "2010-05-02           0.17        72      74.0      55.0\n",
       "2010-05-03           0.17        72      74.0      55.0\n",
       "2010-05-04           0.17        71      74.0      55.0\n",
       "...                   ...       ...       ...       ...\n",
       "2022-11-06           0.17        71      83.0      50.0\n",
       "2022-11-07           0.17        72      83.0      50.0\n",
       "2022-11-08           0.17        71      83.0      50.0\n",
       "2022-11-09           0.17        73      83.0      50.0\n",
       "2022-11-10           0.17        68      83.0      50.0\n",
       "\n",
       "[4573 rows x 4 columns]"
      ]
     },
     "execution_count": 31,
     "metadata": {},
     "output_type": "execute_result"
    }
   ],
   "source": [
    "core_weather"
   ]
  },
  {
   "cell_type": "code",
   "execution_count": 33,
   "id": "c96b9845",
   "metadata": {},
   "outputs": [
    {
     "data": {
      "text/plain": [
       "array([ 74.,  75.,  76.,  84.,  88.,  71.,  78.,  67.,  70.,  72.,  73.,\n",
       "        83.,  79.,  85.,  77.,  80.,  69.,  82.,  68.,  87., 107.,  81.,\n",
       "        90.,  86.,  93.,  92.,  89.,  96.,  62.,  63.,  66.,  65.,  97.,\n",
       "        91.,  95.,  64.,  98., 100.,  99.,  61.,  94., 103.])"
      ]
     },
     "execution_count": 33,
     "metadata": {},
     "output_type": "execute_result"
    }
   ],
   "source": [
    "core_weather['max_temp'].unique()"
   ]
  },
  {
   "cell_type": "code",
   "execution_count": 34,
   "id": "f7e8c0ec",
   "metadata": {},
   "outputs": [
    {
     "data": {
      "text/plain": [
       "precipitation    0\n",
       "avg_temp         0\n",
       "max_temp         0\n",
       "min_temp         0\n",
       "dtype: int64"
      ]
     },
     "execution_count": 34,
     "metadata": {},
     "output_type": "execute_result"
    }
   ],
   "source": [
    "core_weather.apply(pd.isnull).sum()"
   ]
  },
  {
   "cell_type": "code",
   "execution_count": 35,
   "id": "b4e080bc",
   "metadata": {},
   "outputs": [
    {
     "data": {
      "text/html": [
       "<div>\n",
       "<style scoped>\n",
       "    .dataframe tbody tr th:only-of-type {\n",
       "        vertical-align: middle;\n",
       "    }\n",
       "\n",
       "    .dataframe tbody tr th {\n",
       "        vertical-align: top;\n",
       "    }\n",
       "\n",
       "    .dataframe thead th {\n",
       "        text-align: right;\n",
       "    }\n",
       "</style>\n",
       "<table border=\"1\" class=\"dataframe\">\n",
       "  <thead>\n",
       "    <tr style=\"text-align: right;\">\n",
       "      <th></th>\n",
       "      <th>precipitation</th>\n",
       "      <th>avg_temp</th>\n",
       "      <th>max_temp</th>\n",
       "      <th>min_temp</th>\n",
       "    </tr>\n",
       "    <tr>\n",
       "      <th>DATE</th>\n",
       "      <th></th>\n",
       "      <th></th>\n",
       "      <th></th>\n",
       "      <th></th>\n",
       "    </tr>\n",
       "  </thead>\n",
       "  <tbody>\n",
       "    <tr>\n",
       "      <th>2010-04-30</th>\n",
       "      <td>0.17</td>\n",
       "      <td>65</td>\n",
       "      <td>74.0</td>\n",
       "      <td>55.0</td>\n",
       "    </tr>\n",
       "    <tr>\n",
       "      <th>2010-05-01</th>\n",
       "      <td>0.17</td>\n",
       "      <td>71</td>\n",
       "      <td>74.0</td>\n",
       "      <td>55.0</td>\n",
       "    </tr>\n",
       "    <tr>\n",
       "      <th>2010-05-02</th>\n",
       "      <td>0.17</td>\n",
       "      <td>72</td>\n",
       "      <td>74.0</td>\n",
       "      <td>55.0</td>\n",
       "    </tr>\n",
       "    <tr>\n",
       "      <th>2010-05-03</th>\n",
       "      <td>0.17</td>\n",
       "      <td>72</td>\n",
       "      <td>74.0</td>\n",
       "      <td>55.0</td>\n",
       "    </tr>\n",
       "    <tr>\n",
       "      <th>2010-05-04</th>\n",
       "      <td>0.17</td>\n",
       "      <td>71</td>\n",
       "      <td>74.0</td>\n",
       "      <td>55.0</td>\n",
       "    </tr>\n",
       "    <tr>\n",
       "      <th>...</th>\n",
       "      <td>...</td>\n",
       "      <td>...</td>\n",
       "      <td>...</td>\n",
       "      <td>...</td>\n",
       "    </tr>\n",
       "    <tr>\n",
       "      <th>2022-11-06</th>\n",
       "      <td>0.17</td>\n",
       "      <td>71</td>\n",
       "      <td>83.0</td>\n",
       "      <td>50.0</td>\n",
       "    </tr>\n",
       "    <tr>\n",
       "      <th>2022-11-07</th>\n",
       "      <td>0.17</td>\n",
       "      <td>72</td>\n",
       "      <td>83.0</td>\n",
       "      <td>50.0</td>\n",
       "    </tr>\n",
       "    <tr>\n",
       "      <th>2022-11-08</th>\n",
       "      <td>0.17</td>\n",
       "      <td>71</td>\n",
       "      <td>83.0</td>\n",
       "      <td>50.0</td>\n",
       "    </tr>\n",
       "    <tr>\n",
       "      <th>2022-11-09</th>\n",
       "      <td>0.17</td>\n",
       "      <td>73</td>\n",
       "      <td>83.0</td>\n",
       "      <td>50.0</td>\n",
       "    </tr>\n",
       "    <tr>\n",
       "      <th>2022-11-10</th>\n",
       "      <td>0.17</td>\n",
       "      <td>68</td>\n",
       "      <td>83.0</td>\n",
       "      <td>50.0</td>\n",
       "    </tr>\n",
       "  </tbody>\n",
       "</table>\n",
       "<p>4573 rows × 4 columns</p>\n",
       "</div>"
      ],
      "text/plain": [
       "            precipitation  avg_temp  max_temp  min_temp\n",
       "DATE                                                   \n",
       "2010-04-30           0.17        65      74.0      55.0\n",
       "2010-05-01           0.17        71      74.0      55.0\n",
       "2010-05-02           0.17        72      74.0      55.0\n",
       "2010-05-03           0.17        72      74.0      55.0\n",
       "2010-05-04           0.17        71      74.0      55.0\n",
       "...                   ...       ...       ...       ...\n",
       "2022-11-06           0.17        71      83.0      50.0\n",
       "2022-11-07           0.17        72      83.0      50.0\n",
       "2022-11-08           0.17        71      83.0      50.0\n",
       "2022-11-09           0.17        73      83.0      50.0\n",
       "2022-11-10           0.17        68      83.0      50.0\n",
       "\n",
       "[4573 rows x 4 columns]"
      ]
     },
     "execution_count": 35,
     "metadata": {},
     "output_type": "execute_result"
    }
   ],
   "source": [
    "core_weather"
   ]
  },
  {
   "cell_type": "code",
   "execution_count": 36,
   "id": "0931c92a",
   "metadata": {},
   "outputs": [
    {
     "data": {
      "text/plain": [
       "precipitation    0\n",
       "avg_temp         0\n",
       "max_temp         0\n",
       "min_temp         0\n",
       "dtype: int64"
      ]
     },
     "execution_count": 36,
     "metadata": {},
     "output_type": "execute_result"
    }
   ],
   "source": [
    "# Check for missing value defined in data documentation\n",
    "core_weather.apply(lambda x: (x == 9999).sum())"
   ]
  },
  {
   "cell_type": "code",
   "execution_count": 37,
   "id": "9bcdd576",
   "metadata": {},
   "outputs": [
    {
     "data": {
      "text/plain": [
       "precipitation    float64\n",
       "avg_temp           int64\n",
       "max_temp         float64\n",
       "min_temp         float64\n",
       "dtype: object"
      ]
     },
     "execution_count": 37,
     "metadata": {},
     "output_type": "execute_result"
    }
   ],
   "source": [
    "core_weather.dtypes"
   ]
  },
  {
   "cell_type": "code",
   "execution_count": 38,
   "id": "e9ada521",
   "metadata": {},
   "outputs": [
    {
     "data": {
      "text/plain": [
       "Index(['2010-04-30', '2010-05-01', '2010-05-02', '2010-05-03', '2010-05-04',\n",
       "       '2010-05-05', '2010-05-06', '2010-05-07', '2010-05-08', '2010-05-09',\n",
       "       ...\n",
       "       '2022-11-01', '2022-11-02', '2022-11-03', '2022-11-04', '2022-11-05',\n",
       "       '2022-11-06', '2022-11-07', '2022-11-08', '2022-11-09', '2022-11-10'],\n",
       "      dtype='object', name='DATE', length=4573)"
      ]
     },
     "execution_count": 38,
     "metadata": {},
     "output_type": "execute_result"
    }
   ],
   "source": [
    "core_weather.index"
   ]
  },
  {
   "cell_type": "code",
   "execution_count": 39,
   "id": "2fe35b88",
   "metadata": {},
   "outputs": [],
   "source": [
    "core_weather.index = pd.to_datetime(core_weather.index)"
   ]
  },
  {
   "cell_type": "code",
   "execution_count": 40,
   "id": "c0397af0",
   "metadata": {},
   "outputs": [
    {
     "data": {
      "text/plain": [
       "DatetimeIndex(['2010-04-30', '2010-05-01', '2010-05-02', '2010-05-03',\n",
       "               '2010-05-04', '2010-05-05', '2010-05-06', '2010-05-07',\n",
       "               '2010-05-08', '2010-05-09',\n",
       "               ...\n",
       "               '2022-11-01', '2022-11-02', '2022-11-03', '2022-11-04',\n",
       "               '2022-11-05', '2022-11-06', '2022-11-07', '2022-11-08',\n",
       "               '2022-11-09', '2022-11-10'],\n",
       "              dtype='datetime64[ns]', name='DATE', length=4573, freq=None)"
      ]
     },
     "execution_count": 40,
     "metadata": {},
     "output_type": "execute_result"
    }
   ],
   "source": [
    "core_weather.index"
   ]
  },
  {
   "cell_type": "code",
   "execution_count": 41,
   "id": "f1488d9d",
   "metadata": {},
   "outputs": [
    {
     "data": {
      "text/plain": [
       "Int64Index([2010, 2010, 2010, 2010, 2010, 2010, 2010, 2010, 2010, 2010,\n",
       "            ...\n",
       "            2022, 2022, 2022, 2022, 2022, 2022, 2022, 2022, 2022, 2022],\n",
       "           dtype='int64', name='DATE', length=4573)"
      ]
     },
     "execution_count": 41,
     "metadata": {},
     "output_type": "execute_result"
    }
   ],
   "source": [
    "core_weather.index.year"
   ]
  },
  {
   "cell_type": "code",
   "execution_count": 42,
   "id": "5244501c",
   "metadata": {},
   "outputs": [
    {
     "data": {
      "image/png": "[encoded data removed]",
      "text/plain": [
       "<Figure size 640x480 with 1 Axes>"
      ]
     },
     "metadata": {},
     "output_type": "display_data"
    }
   ],
   "source": [
    "core_weather[['max_temp', 'min_temp']].plot();"
   ]
  },
  {
   "cell_type": "code",
   "execution_count": 43,
   "id": "091923fc",
   "metadata": {},
   "outputs": [
    {
     "data": {
      "text/plain": [
       "2010    245\n",
       "2011    365\n",
       "2012    366\n",
       "2013    365\n",
       "2014    365\n",
       "2015    364\n",
       "2016    366\n",
       "2017    365\n",
       "2018    365\n",
       "2019    365\n",
       "2020    366\n",
       "2021    362\n",
       "2022    314\n",
       "Name: DATE, dtype: int64"
      ]
     },
     "execution_count": 43,
     "metadata": {},
     "output_type": "execute_result"
    }
   ],
   "source": [
    "core_weather.index.year.value_counts().sort_index()"
   ]
  },
  {
   "cell_type": "code",
   "execution_count": 44,
   "id": "48ab6d5c",
   "metadata": {},
   "outputs": [
    {
     "data": {
      "image/png": "[encoded data removed]",
      "text/plain": [
       "<Figure size 640x480 with 1 Axes>"
      ]
     },
     "metadata": {},
     "output_type": "display_data"
    }
   ],
   "source": [
    "core_weather['precipitation'].plot();"
   ]
  },
  {
   "cell_type": "code",
   "execution_count": 47,
   "id": "1a283168",
   "metadata": {},
   "outputs": [
    {
     "data": {
      "text/html": [
       "<div>\n",
       "<style scoped>\n",
       "    .dataframe tbody tr th:only-of-type {\n",
       "        vertical-align: middle;\n",
       "    }\n",
       "\n",
       "    .dataframe tbody tr th {\n",
       "        vertical-align: top;\n",
       "    }\n",
       "\n",
       "    .dataframe thead th {\n",
       "        text-align: right;\n",
       "    }\n",
       "</style>\n",
       "<table border=\"1\" class=\"dataframe\">\n",
       "  <thead>\n",
       "    <tr style=\"text-align: right;\">\n",
       "      <th></th>\n",
       "      <th>precipitation</th>\n",
       "      <th>avg_temp</th>\n",
       "      <th>max_temp</th>\n",
       "      <th>min_temp</th>\n",
       "    </tr>\n",
       "    <tr>\n",
       "      <th>DATE</th>\n",
       "      <th></th>\n",
       "      <th></th>\n",
       "      <th></th>\n",
       "      <th></th>\n",
       "    </tr>\n",
       "  </thead>\n",
       "  <tbody>\n",
       "    <tr>\n",
       "      <th>2017-10-10</th>\n",
       "      <td>0.67</td>\n",
       "      <td>61</td>\n",
       "      <td>78.0</td>\n",
       "      <td>56.0</td>\n",
       "    </tr>\n",
       "    <tr>\n",
       "      <th>2017-10-11</th>\n",
       "      <td>2.24</td>\n",
       "      <td>60</td>\n",
       "      <td>73.0</td>\n",
       "      <td>56.0</td>\n",
       "    </tr>\n",
       "  </tbody>\n",
       "</table>\n",
       "</div>"
      ],
      "text/plain": [
       "            precipitation  avg_temp  max_temp  min_temp\n",
       "DATE                                                   \n",
       "2017-10-10           0.67        61      78.0      56.0\n",
       "2017-10-11           2.24        60      73.0      56.0"
      ]
     },
     "execution_count": 47,
     "metadata": {},
     "output_type": "execute_result"
    }
   ],
   "source": [
    "core_weather.loc['2017-10-10':'2017-10-11']"
   ]
  },
  {
   "cell_type": "code",
   "execution_count": 48,
   "id": "e3ea6023",
   "metadata": {},
   "outputs": [
    {
     "data": {
      "image/png": "[encoded data removed]",
      "text/plain": [
       "<Figure size 640x480 with 1 Axes>"
      ]
     },
     "metadata": {},
     "output_type": "display_data"
    }
   ],
   "source": [
    "core_weather.groupby(core_weather.index.year).apply(lambda x: x['precipitation'].sum()).plot();"
   ]
  },
  {
   "cell_type": "code",
   "execution_count": 46,
   "id": "91ef10f0",
   "metadata": {},
   "outputs": [
    {
     "data": {
      "text/plain": [
       "5.24"
      ]
     },
     "execution_count": 46,
     "metadata": {},
     "output_type": "execute_result"
    }
   ],
   "source": [
    "core_weather['precipitation'].max()"
   ]
  },
  {
   "cell_type": "markdown",
   "id": "63533e4d",
   "metadata": {},
   "source": [
    "The South African Weather Service reported torrential rain in the Durban area on the 11th of October 2017. Approximately 4.25 inches (108 mm) fell between October 10 and 11, a record high from the October, 1985 of ~4.13 Inch(105 mm)"
   ]
  },
  {
   "cell_type": "code",
   "execution_count": 49,
   "id": "6c4342d0",
   "metadata": {},
   "outputs": [],
   "source": [
    "core_weather['target'] = core_weather.shift(-1)['max_temp']"
   ]
  },
  {
   "cell_type": "code",
   "execution_count": 50,
   "id": "6cc05c53",
   "metadata": {},
   "outputs": [
    {
     "data": {
      "text/html": [
       "<div>\n",
       "<style scoped>\n",
       "    .dataframe tbody tr th:only-of-type {\n",
       "        vertical-align: middle;\n",
       "    }\n",
       "\n",
       "    .dataframe tbody tr th {\n",
       "        vertical-align: top;\n",
       "    }\n",
       "\n",
       "    .dataframe thead th {\n",
       "        text-align: right;\n",
       "    }\n",
       "</style>\n",
       "<table border=\"1\" class=\"dataframe\">\n",
       "  <thead>\n",
       "    <tr style=\"text-align: right;\">\n",
       "      <th></th>\n",
       "      <th>precipitation</th>\n",
       "      <th>avg_temp</th>\n",
       "      <th>max_temp</th>\n",
       "      <th>min_temp</th>\n",
       "      <th>target</th>\n",
       "    </tr>\n",
       "    <tr>\n",
       "      <th>DATE</th>\n",
       "      <th></th>\n",
       "      <th></th>\n",
       "      <th></th>\n",
       "      <th></th>\n",
       "      <th></th>\n",
       "    </tr>\n",
       "  </thead>\n",
       "  <tbody>\n",
       "    <tr>\n",
       "      <th>2010-04-30</th>\n",
       "      <td>0.17</td>\n",
       "      <td>65</td>\n",
       "      <td>74.0</td>\n",
       "      <td>55.0</td>\n",
       "      <td>74.0</td>\n",
       "    </tr>\n",
       "    <tr>\n",
       "      <th>2010-05-01</th>\n",
       "      <td>0.17</td>\n",
       "      <td>71</td>\n",
       "      <td>74.0</td>\n",
       "      <td>55.0</td>\n",
       "      <td>74.0</td>\n",
       "    </tr>\n",
       "    <tr>\n",
       "      <th>2010-05-02</th>\n",
       "      <td>0.17</td>\n",
       "      <td>72</td>\n",
       "      <td>74.0</td>\n",
       "      <td>55.0</td>\n",
       "      <td>74.0</td>\n",
       "    </tr>\n",
       "    <tr>\n",
       "      <th>2010-05-03</th>\n",
       "      <td>0.17</td>\n",
       "      <td>72</td>\n",
       "      <td>74.0</td>\n",
       "      <td>55.0</td>\n",
       "      <td>74.0</td>\n",
       "    </tr>\n",
       "    <tr>\n",
       "      <th>2010-05-04</th>\n",
       "      <td>0.17</td>\n",
       "      <td>71</td>\n",
       "      <td>74.0</td>\n",
       "      <td>55.0</td>\n",
       "      <td>74.0</td>\n",
       "    </tr>\n",
       "    <tr>\n",
       "      <th>...</th>\n",
       "      <td>...</td>\n",
       "      <td>...</td>\n",
       "      <td>...</td>\n",
       "      <td>...</td>\n",
       "      <td>...</td>\n",
       "    </tr>\n",
       "    <tr>\n",
       "      <th>2022-11-06</th>\n",
       "      <td>0.17</td>\n",
       "      <td>71</td>\n",
       "      <td>83.0</td>\n",
       "      <td>50.0</td>\n",
       "      <td>83.0</td>\n",
       "    </tr>\n",
       "    <tr>\n",
       "      <th>2022-11-07</th>\n",
       "      <td>0.17</td>\n",
       "      <td>72</td>\n",
       "      <td>83.0</td>\n",
       "      <td>50.0</td>\n",
       "      <td>83.0</td>\n",
       "    </tr>\n",
       "    <tr>\n",
       "      <th>2022-11-08</th>\n",
       "      <td>0.17</td>\n",
       "      <td>71</td>\n",
       "      <td>83.0</td>\n",
       "      <td>50.0</td>\n",
       "      <td>83.0</td>\n",
       "    </tr>\n",
       "    <tr>\n",
       "      <th>2022-11-09</th>\n",
       "      <td>0.17</td>\n",
       "      <td>73</td>\n",
       "      <td>83.0</td>\n",
       "      <td>50.0</td>\n",
       "      <td>83.0</td>\n",
       "    </tr>\n",
       "    <tr>\n",
       "      <th>2022-11-10</th>\n",
       "      <td>0.17</td>\n",
       "      <td>68</td>\n",
       "      <td>83.0</td>\n",
       "      <td>50.0</td>\n",
       "      <td>NaN</td>\n",
       "    </tr>\n",
       "  </tbody>\n",
       "</table>\n",
       "<p>4573 rows × 5 columns</p>\n",
       "</div>"
      ],
      "text/plain": [
       "            precipitation  avg_temp  max_temp  min_temp  target\n",
       "DATE                                                           \n",
       "2010-04-30           0.17        65      74.0      55.0    74.0\n",
       "2010-05-01           0.17        71      74.0      55.0    74.0\n",
       "2010-05-02           0.17        72      74.0      55.0    74.0\n",
       "2010-05-03           0.17        72      74.0      55.0    74.0\n",
       "2010-05-04           0.17        71      74.0      55.0    74.0\n",
       "...                   ...       ...       ...       ...     ...\n",
       "2022-11-06           0.17        71      83.0      50.0    83.0\n",
       "2022-11-07           0.17        72      83.0      50.0    83.0\n",
       "2022-11-08           0.17        71      83.0      50.0    83.0\n",
       "2022-11-09           0.17        73      83.0      50.0    83.0\n",
       "2022-11-10           0.17        68      83.0      50.0     NaN\n",
       "\n",
       "[4573 rows x 5 columns]"
      ]
     },
     "execution_count": 50,
     "metadata": {},
     "output_type": "execute_result"
    }
   ],
   "source": [
    "core_weather"
   ]
  },
  {
   "cell_type": "code",
   "execution_count": 51,
   "id": "50b3d2c5",
   "metadata": {},
   "outputs": [],
   "source": [
    "core_weather = core_weather.iloc[:-1,:].copy()"
   ]
  },
  {
   "cell_type": "code",
   "execution_count": 52,
   "id": "9d469474",
   "metadata": {},
   "outputs": [
    {
     "data": {
      "text/html": [
       "<div>\n",
       "<style scoped>\n",
       "    .dataframe tbody tr th:only-of-type {\n",
       "        vertical-align: middle;\n",
       "    }\n",
       "\n",
       "    .dataframe tbody tr th {\n",
       "        vertical-align: top;\n",
       "    }\n",
       "\n",
       "    .dataframe thead th {\n",
       "        text-align: right;\n",
       "    }\n",
       "</style>\n",
       "<table border=\"1\" class=\"dataframe\">\n",
       "  <thead>\n",
       "    <tr style=\"text-align: right;\">\n",
       "      <th></th>\n",
       "      <th>precipitation</th>\n",
       "      <th>avg_temp</th>\n",
       "      <th>max_temp</th>\n",
       "      <th>min_temp</th>\n",
       "      <th>target</th>\n",
       "    </tr>\n",
       "    <tr>\n",
       "      <th>DATE</th>\n",
       "      <th></th>\n",
       "      <th></th>\n",
       "      <th></th>\n",
       "      <th></th>\n",
       "      <th></th>\n",
       "    </tr>\n",
       "  </thead>\n",
       "  <tbody>\n",
       "    <tr>\n",
       "      <th>2010-04-30</th>\n",
       "      <td>0.17</td>\n",
       "      <td>65</td>\n",
       "      <td>74.0</td>\n",
       "      <td>55.0</td>\n",
       "      <td>74.0</td>\n",
       "    </tr>\n",
       "    <tr>\n",
       "      <th>2010-05-01</th>\n",
       "      <td>0.17</td>\n",
       "      <td>71</td>\n",
       "      <td>74.0</td>\n",
       "      <td>55.0</td>\n",
       "      <td>74.0</td>\n",
       "    </tr>\n",
       "    <tr>\n",
       "      <th>2010-05-02</th>\n",
       "      <td>0.17</td>\n",
       "      <td>72</td>\n",
       "      <td>74.0</td>\n",
       "      <td>55.0</td>\n",
       "      <td>74.0</td>\n",
       "    </tr>\n",
       "    <tr>\n",
       "      <th>2010-05-03</th>\n",
       "      <td>0.17</td>\n",
       "      <td>72</td>\n",
       "      <td>74.0</td>\n",
       "      <td>55.0</td>\n",
       "      <td>74.0</td>\n",
       "    </tr>\n",
       "    <tr>\n",
       "      <th>2010-05-04</th>\n",
       "      <td>0.17</td>\n",
       "      <td>71</td>\n",
       "      <td>74.0</td>\n",
       "      <td>55.0</td>\n",
       "      <td>74.0</td>\n",
       "    </tr>\n",
       "    <tr>\n",
       "      <th>...</th>\n",
       "      <td>...</td>\n",
       "      <td>...</td>\n",
       "      <td>...</td>\n",
       "      <td>...</td>\n",
       "      <td>...</td>\n",
       "    </tr>\n",
       "    <tr>\n",
       "      <th>2022-11-05</th>\n",
       "      <td>0.17</td>\n",
       "      <td>72</td>\n",
       "      <td>83.0</td>\n",
       "      <td>50.0</td>\n",
       "      <td>83.0</td>\n",
       "    </tr>\n",
       "    <tr>\n",
       "      <th>2022-11-06</th>\n",
       "      <td>0.17</td>\n",
       "      <td>71</td>\n",
       "      <td>83.0</td>\n",
       "      <td>50.0</td>\n",
       "      <td>83.0</td>\n",
       "    </tr>\n",
       "    <tr>\n",
       "      <th>2022-11-07</th>\n",
       "      <td>0.17</td>\n",
       "      <td>72</td>\n",
       "      <td>83.0</td>\n",
       "      <td>50.0</td>\n",
       "      <td>83.0</td>\n",
       "    </tr>\n",
       "    <tr>\n",
       "      <th>2022-11-08</th>\n",
       "      <td>0.17</td>\n",
       "      <td>71</td>\n",
       "      <td>83.0</td>\n",
       "      <td>50.0</td>\n",
       "      <td>83.0</td>\n",
       "    </tr>\n",
       "    <tr>\n",
       "      <th>2022-11-09</th>\n",
       "      <td>0.17</td>\n",
       "      <td>73</td>\n",
       "      <td>83.0</td>\n",
       "      <td>50.0</td>\n",
       "      <td>83.0</td>\n",
       "    </tr>\n",
       "  </tbody>\n",
       "</table>\n",
       "<p>4572 rows × 5 columns</p>\n",
       "</div>"
      ],
      "text/plain": [
       "            precipitation  avg_temp  max_temp  min_temp  target\n",
       "DATE                                                           \n",
       "2010-04-30           0.17        65      74.0      55.0    74.0\n",
       "2010-05-01           0.17        71      74.0      55.0    74.0\n",
       "2010-05-02           0.17        72      74.0      55.0    74.0\n",
       "2010-05-03           0.17        72      74.0      55.0    74.0\n",
       "2010-05-04           0.17        71      74.0      55.0    74.0\n",
       "...                   ...       ...       ...       ...     ...\n",
       "2022-11-05           0.17        72      83.0      50.0    83.0\n",
       "2022-11-06           0.17        71      83.0      50.0    83.0\n",
       "2022-11-07           0.17        72      83.0      50.0    83.0\n",
       "2022-11-08           0.17        71      83.0      50.0    83.0\n",
       "2022-11-09           0.17        73      83.0      50.0    83.0\n",
       "\n",
       "[4572 rows x 5 columns]"
      ]
     },
     "execution_count": 52,
     "metadata": {},
     "output_type": "execute_result"
    }
   ],
   "source": [
    "core_weather"
   ]
  },
  {
   "cell_type": "code",
   "execution_count": 53,
   "id": "e774ec91",
   "metadata": {},
   "outputs": [],
   "source": [
    "from sklearn.linear_model import Ridge"
   ]
  },
  {
   "cell_type": "code",
   "execution_count": 105,
   "id": "eaaad92f",
   "metadata": {},
   "outputs": [],
   "source": [
    "reg = Ridge(alpha=.1)"
   ]
  },
  {
   "cell_type": "code",
   "execution_count": 106,
   "id": "c867b8ec",
   "metadata": {},
   "outputs": [],
   "source": [
    "predictors = ['precipitation', 'max_temp', 'avg_temp', 'min_temp']"
   ]
  },
  {
   "cell_type": "code",
   "execution_count": 109,
   "id": "5f48d90e",
   "metadata": {},
   "outputs": [],
   "source": [
    "train = core_weather.loc[:\"2012-12-31\"]\n",
    "test = core_weather.loc[\"2021-01-01\":]"
   ]
  },
  {
   "cell_type": "code",
   "execution_count": 110,
   "id": "fc10db3d",
   "metadata": {},
   "outputs": [
    {
     "data": {
      "text/html": [
       "<div>\n",
       "<style scoped>\n",
       "    .dataframe tbody tr th:only-of-type {\n",
       "        vertical-align: middle;\n",
       "    }\n",
       "\n",
       "    .dataframe tbody tr th {\n",
       "        vertical-align: top;\n",
       "    }\n",
       "\n",
       "    .dataframe thead th {\n",
       "        text-align: right;\n",
       "    }\n",
       "</style>\n",
       "<table border=\"1\" class=\"dataframe\">\n",
       "  <thead>\n",
       "    <tr style=\"text-align: right;\">\n",
       "      <th></th>\n",
       "      <th>precipitation</th>\n",
       "      <th>avg_temp</th>\n",
       "      <th>max_temp</th>\n",
       "      <th>min_temp</th>\n",
       "      <th>target</th>\n",
       "      <th>month_max</th>\n",
       "      <th>month_day_max</th>\n",
       "      <th>max_min</th>\n",
       "      <th>monthly_avg</th>\n",
       "      <th>day_of_year_avg</th>\n",
       "    </tr>\n",
       "    <tr>\n",
       "      <th>DATE</th>\n",
       "      <th></th>\n",
       "      <th></th>\n",
       "      <th></th>\n",
       "      <th></th>\n",
       "      <th></th>\n",
       "      <th></th>\n",
       "      <th></th>\n",
       "      <th></th>\n",
       "      <th></th>\n",
       "      <th></th>\n",
       "    </tr>\n",
       "  </thead>\n",
       "  <tbody>\n",
       "    <tr>\n",
       "      <th>2010-06-29</th>\n",
       "      <td>0.00</td>\n",
       "      <td>67</td>\n",
       "      <td>83.0</td>\n",
       "      <td>58.0</td>\n",
       "      <td>83.0</td>\n",
       "      <td>76.433333</td>\n",
       "      <td>0.920884</td>\n",
       "      <td>1.431034</td>\n",
       "      <td>83.000000</td>\n",
       "      <td>83.000000</td>\n",
       "    </tr>\n",
       "    <tr>\n",
       "      <th>2010-06-30</th>\n",
       "      <td>0.17</td>\n",
       "      <td>64</td>\n",
       "      <td>83.0</td>\n",
       "      <td>49.0</td>\n",
       "      <td>73.0</td>\n",
       "      <td>76.733333</td>\n",
       "      <td>0.924498</td>\n",
       "      <td>1.693878</td>\n",
       "      <td>83.000000</td>\n",
       "      <td>83.000000</td>\n",
       "    </tr>\n",
       "    <tr>\n",
       "      <th>2010-07-01</th>\n",
       "      <td>0.02</td>\n",
       "      <td>62</td>\n",
       "      <td>73.0</td>\n",
       "      <td>49.0</td>\n",
       "      <td>73.0</td>\n",
       "      <td>76.700000</td>\n",
       "      <td>1.050685</td>\n",
       "      <td>1.489796</td>\n",
       "      <td>73.000000</td>\n",
       "      <td>73.000000</td>\n",
       "    </tr>\n",
       "    <tr>\n",
       "      <th>2010-07-02</th>\n",
       "      <td>0.00</td>\n",
       "      <td>62</td>\n",
       "      <td>73.0</td>\n",
       "      <td>49.0</td>\n",
       "      <td>73.0</td>\n",
       "      <td>76.666667</td>\n",
       "      <td>1.050228</td>\n",
       "      <td>1.489796</td>\n",
       "      <td>73.000000</td>\n",
       "      <td>73.000000</td>\n",
       "    </tr>\n",
       "    <tr>\n",
       "      <th>2010-07-03</th>\n",
       "      <td>0.17</td>\n",
       "      <td>60</td>\n",
       "      <td>73.0</td>\n",
       "      <td>49.0</td>\n",
       "      <td>72.0</td>\n",
       "      <td>76.600000</td>\n",
       "      <td>1.049315</td>\n",
       "      <td>1.489796</td>\n",
       "      <td>73.000000</td>\n",
       "      <td>73.000000</td>\n",
       "    </tr>\n",
       "    <tr>\n",
       "      <th>...</th>\n",
       "      <td>...</td>\n",
       "      <td>...</td>\n",
       "      <td>...</td>\n",
       "      <td>...</td>\n",
       "      <td>...</td>\n",
       "      <td>...</td>\n",
       "      <td>...</td>\n",
       "      <td>...</td>\n",
       "      <td>...</td>\n",
       "      <td>...</td>\n",
       "    </tr>\n",
       "    <tr>\n",
       "      <th>2012-12-27</th>\n",
       "      <td>0.00</td>\n",
       "      <td>76</td>\n",
       "      <td>83.0</td>\n",
       "      <td>69.0</td>\n",
       "      <td>86.0</td>\n",
       "      <td>80.700000</td>\n",
       "      <td>0.972289</td>\n",
       "      <td>1.202899</td>\n",
       "      <td>80.000000</td>\n",
       "      <td>82.333333</td>\n",
       "    </tr>\n",
       "    <tr>\n",
       "      <th>2012-12-28</th>\n",
       "      <td>0.17</td>\n",
       "      <td>77</td>\n",
       "      <td>86.0</td>\n",
       "      <td>69.0</td>\n",
       "      <td>87.0</td>\n",
       "      <td>81.066667</td>\n",
       "      <td>0.942636</td>\n",
       "      <td>1.246377</td>\n",
       "      <td>80.067416</td>\n",
       "      <td>83.333333</td>\n",
       "    </tr>\n",
       "    <tr>\n",
       "      <th>2012-12-29</th>\n",
       "      <td>0.17</td>\n",
       "      <td>78</td>\n",
       "      <td>87.0</td>\n",
       "      <td>73.0</td>\n",
       "      <td>87.0</td>\n",
       "      <td>81.366667</td>\n",
       "      <td>0.935249</td>\n",
       "      <td>1.191781</td>\n",
       "      <td>80.144444</td>\n",
       "      <td>81.333333</td>\n",
       "    </tr>\n",
       "    <tr>\n",
       "      <th>2012-12-30</th>\n",
       "      <td>0.17</td>\n",
       "      <td>79</td>\n",
       "      <td>87.0</td>\n",
       "      <td>73.0</td>\n",
       "      <td>87.0</td>\n",
       "      <td>81.666667</td>\n",
       "      <td>0.938697</td>\n",
       "      <td>1.191781</td>\n",
       "      <td>80.219780</td>\n",
       "      <td>81.666667</td>\n",
       "    </tr>\n",
       "    <tr>\n",
       "      <th>2012-12-31</th>\n",
       "      <td>0.17</td>\n",
       "      <td>78</td>\n",
       "      <td>87.0</td>\n",
       "      <td>73.0</td>\n",
       "      <td>87.0</td>\n",
       "      <td>81.966667</td>\n",
       "      <td>0.942146</td>\n",
       "      <td>1.191781</td>\n",
       "      <td>80.293478</td>\n",
       "      <td>87.000000</td>\n",
       "    </tr>\n",
       "  </tbody>\n",
       "</table>\n",
       "<p>916 rows × 10 columns</p>\n",
       "</div>"
      ],
      "text/plain": [
       "            precipitation  avg_temp  max_temp  min_temp  target  month_max  \\\n",
       "DATE                                                                         \n",
       "2010-06-29           0.00        67      83.0      58.0    83.0  76.433333   \n",
       "2010-06-30           0.17        64      83.0      49.0    73.0  76.733333   \n",
       "2010-07-01           0.02        62      73.0      49.0    73.0  76.700000   \n",
       "2010-07-02           0.00        62      73.0      49.0    73.0  76.666667   \n",
       "2010-07-03           0.17        60      73.0      49.0    72.0  76.600000   \n",
       "...                   ...       ...       ...       ...     ...        ...   \n",
       "2012-12-27           0.00        76      83.0      69.0    86.0  80.700000   \n",
       "2012-12-28           0.17        77      86.0      69.0    87.0  81.066667   \n",
       "2012-12-29           0.17        78      87.0      73.0    87.0  81.366667   \n",
       "2012-12-30           0.17        79      87.0      73.0    87.0  81.666667   \n",
       "2012-12-31           0.17        78      87.0      73.0    87.0  81.966667   \n",
       "\n",
       "            month_day_max   max_min  monthly_avg  day_of_year_avg  \n",
       "DATE                                                               \n",
       "2010-06-29       0.920884  1.431034    83.000000        83.000000  \n",
       "2010-06-30       0.924498  1.693878    83.000000        83.000000  \n",
       "2010-07-01       1.050685  1.489796    73.000000        73.000000  \n",
       "2010-07-02       1.050228  1.489796    73.000000        73.000000  \n",
       "2010-07-03       1.049315  1.489796    73.000000        73.000000  \n",
       "...                   ...       ...          ...              ...  \n",
       "2012-12-27       0.972289  1.202899    80.000000        82.333333  \n",
       "2012-12-28       0.942636  1.246377    80.067416        83.333333  \n",
       "2012-12-29       0.935249  1.191781    80.144444        81.333333  \n",
       "2012-12-30       0.938697  1.191781    80.219780        81.666667  \n",
       "2012-12-31       0.942146  1.191781    80.293478        87.000000  \n",
       "\n",
       "[916 rows x 10 columns]"
      ]
     },
     "execution_count": 110,
     "metadata": {},
     "output_type": "execute_result"
    }
   ],
   "source": [
    "train"
   ]
  },
  {
   "cell_type": "code",
   "execution_count": 111,
   "id": "49b9092e",
   "metadata": {},
   "outputs": [
    {
     "data": {
      "text/html": [
       "<div>\n",
       "<style scoped>\n",
       "    .dataframe tbody tr th:only-of-type {\n",
       "        vertical-align: middle;\n",
       "    }\n",
       "\n",
       "    .dataframe tbody tr th {\n",
       "        vertical-align: top;\n",
       "    }\n",
       "\n",
       "    .dataframe thead th {\n",
       "        text-align: right;\n",
       "    }\n",
       "</style>\n",
       "<table border=\"1\" class=\"dataframe\">\n",
       "  <thead>\n",
       "    <tr style=\"text-align: right;\">\n",
       "      <th></th>\n",
       "      <th>precipitation</th>\n",
       "      <th>avg_temp</th>\n",
       "      <th>max_temp</th>\n",
       "      <th>min_temp</th>\n",
       "      <th>target</th>\n",
       "      <th>month_max</th>\n",
       "      <th>month_day_max</th>\n",
       "      <th>max_min</th>\n",
       "      <th>monthly_avg</th>\n",
       "      <th>day_of_year_avg</th>\n",
       "    </tr>\n",
       "    <tr>\n",
       "      <th>DATE</th>\n",
       "      <th></th>\n",
       "      <th></th>\n",
       "      <th></th>\n",
       "      <th></th>\n",
       "      <th></th>\n",
       "      <th></th>\n",
       "      <th></th>\n",
       "      <th></th>\n",
       "      <th></th>\n",
       "      <th></th>\n",
       "    </tr>\n",
       "  </thead>\n",
       "  <tbody>\n",
       "    <tr>\n",
       "      <th>2021-01-01</th>\n",
       "      <td>0.17</td>\n",
       "      <td>68</td>\n",
       "      <td>84.0</td>\n",
       "      <td>68.0</td>\n",
       "      <td>68.0</td>\n",
       "      <td>78.8</td>\n",
       "      <td>0.938095</td>\n",
       "      <td>1.235294</td>\n",
       "      <td>83.019293</td>\n",
       "      <td>83.818182</td>\n",
       "    </tr>\n",
       "    <tr>\n",
       "      <th>2021-01-02</th>\n",
       "      <td>0.17</td>\n",
       "      <td>65</td>\n",
       "      <td>68.0</td>\n",
       "      <td>68.0</td>\n",
       "      <td>68.0</td>\n",
       "      <td>78.7</td>\n",
       "      <td>1.157353</td>\n",
       "      <td>1.000000</td>\n",
       "      <td>82.971154</td>\n",
       "      <td>83.545455</td>\n",
       "    </tr>\n",
       "    <tr>\n",
       "      <th>2021-01-03</th>\n",
       "      <td>0.17</td>\n",
       "      <td>71</td>\n",
       "      <td>68.0</td>\n",
       "      <td>68.0</td>\n",
       "      <td>68.0</td>\n",
       "      <td>78.6</td>\n",
       "      <td>1.155882</td>\n",
       "      <td>1.000000</td>\n",
       "      <td>82.923323</td>\n",
       "      <td>81.454545</td>\n",
       "    </tr>\n",
       "    <tr>\n",
       "      <th>2021-01-04</th>\n",
       "      <td>0.17</td>\n",
       "      <td>75</td>\n",
       "      <td>68.0</td>\n",
       "      <td>68.0</td>\n",
       "      <td>68.0</td>\n",
       "      <td>78.5</td>\n",
       "      <td>1.154412</td>\n",
       "      <td>1.000000</td>\n",
       "      <td>82.875796</td>\n",
       "      <td>81.545455</td>\n",
       "    </tr>\n",
       "    <tr>\n",
       "      <th>2021-01-05</th>\n",
       "      <td>0.17</td>\n",
       "      <td>77</td>\n",
       "      <td>68.0</td>\n",
       "      <td>68.0</td>\n",
       "      <td>68.0</td>\n",
       "      <td>78.4</td>\n",
       "      <td>1.152941</td>\n",
       "      <td>1.000000</td>\n",
       "      <td>82.828571</td>\n",
       "      <td>81.000000</td>\n",
       "    </tr>\n",
       "    <tr>\n",
       "      <th>...</th>\n",
       "      <td>...</td>\n",
       "      <td>...</td>\n",
       "      <td>...</td>\n",
       "      <td>...</td>\n",
       "      <td>...</td>\n",
       "      <td>...</td>\n",
       "      <td>...</td>\n",
       "      <td>...</td>\n",
       "      <td>...</td>\n",
       "      <td>...</td>\n",
       "    </tr>\n",
       "    <tr>\n",
       "      <th>2022-11-05</th>\n",
       "      <td>0.17</td>\n",
       "      <td>72</td>\n",
       "      <td>83.0</td>\n",
       "      <td>50.0</td>\n",
       "      <td>83.0</td>\n",
       "      <td>83.0</td>\n",
       "      <td>1.000000</td>\n",
       "      <td>1.660000</td>\n",
       "      <td>78.624658</td>\n",
       "      <td>81.769231</td>\n",
       "    </tr>\n",
       "    <tr>\n",
       "      <th>2022-11-06</th>\n",
       "      <td>0.17</td>\n",
       "      <td>71</td>\n",
       "      <td>83.0</td>\n",
       "      <td>50.0</td>\n",
       "      <td>83.0</td>\n",
       "      <td>83.0</td>\n",
       "      <td>1.000000</td>\n",
       "      <td>1.660000</td>\n",
       "      <td>78.636612</td>\n",
       "      <td>79.000000</td>\n",
       "    </tr>\n",
       "    <tr>\n",
       "      <th>2022-11-07</th>\n",
       "      <td>0.17</td>\n",
       "      <td>72</td>\n",
       "      <td>83.0</td>\n",
       "      <td>50.0</td>\n",
       "      <td>83.0</td>\n",
       "      <td>83.0</td>\n",
       "      <td>1.000000</td>\n",
       "      <td>1.660000</td>\n",
       "      <td>78.648501</td>\n",
       "      <td>77.307692</td>\n",
       "    </tr>\n",
       "    <tr>\n",
       "      <th>2022-11-08</th>\n",
       "      <td>0.17</td>\n",
       "      <td>71</td>\n",
       "      <td>83.0</td>\n",
       "      <td>50.0</td>\n",
       "      <td>83.0</td>\n",
       "      <td>83.0</td>\n",
       "      <td>1.000000</td>\n",
       "      <td>1.660000</td>\n",
       "      <td>78.660326</td>\n",
       "      <td>77.769231</td>\n",
       "    </tr>\n",
       "    <tr>\n",
       "      <th>2022-11-09</th>\n",
       "      <td>0.17</td>\n",
       "      <td>73</td>\n",
       "      <td>83.0</td>\n",
       "      <td>50.0</td>\n",
       "      <td>83.0</td>\n",
       "      <td>83.0</td>\n",
       "      <td>1.000000</td>\n",
       "      <td>1.660000</td>\n",
       "      <td>78.672087</td>\n",
       "      <td>78.307692</td>\n",
       "    </tr>\n",
       "  </tbody>\n",
       "</table>\n",
       "<p>675 rows × 10 columns</p>\n",
       "</div>"
      ],
      "text/plain": [
       "            precipitation  avg_temp  max_temp  min_temp  target  month_max  \\\n",
       "DATE                                                                         \n",
       "2021-01-01           0.17        68      84.0      68.0    68.0       78.8   \n",
       "2021-01-02           0.17        65      68.0      68.0    68.0       78.7   \n",
       "2021-01-03           0.17        71      68.0      68.0    68.0       78.6   \n",
       "2021-01-04           0.17        75      68.0      68.0    68.0       78.5   \n",
       "2021-01-05           0.17        77      68.0      68.0    68.0       78.4   \n",
       "...                   ...       ...       ...       ...     ...        ...   \n",
       "2022-11-05           0.17        72      83.0      50.0    83.0       83.0   \n",
       "2022-11-06           0.17        71      83.0      50.0    83.0       83.0   \n",
       "2022-11-07           0.17        72      83.0      50.0    83.0       83.0   \n",
       "2022-11-08           0.17        71      83.0      50.0    83.0       83.0   \n",
       "2022-11-09           0.17        73      83.0      50.0    83.0       83.0   \n",
       "\n",
       "            month_day_max   max_min  monthly_avg  day_of_year_avg  \n",
       "DATE                                                               \n",
       "2021-01-01       0.938095  1.235294    83.019293        83.818182  \n",
       "2021-01-02       1.157353  1.000000    82.971154        83.545455  \n",
       "2021-01-03       1.155882  1.000000    82.923323        81.454545  \n",
       "2021-01-04       1.154412  1.000000    82.875796        81.545455  \n",
       "2021-01-05       1.152941  1.000000    82.828571        81.000000  \n",
       "...                   ...       ...          ...              ...  \n",
       "2022-11-05       1.000000  1.660000    78.624658        81.769231  \n",
       "2022-11-06       1.000000  1.660000    78.636612        79.000000  \n",
       "2022-11-07       1.000000  1.660000    78.648501        77.307692  \n",
       "2022-11-08       1.000000  1.660000    78.660326        77.769231  \n",
       "2022-11-09       1.000000  1.660000    78.672087        78.307692  \n",
       "\n",
       "[675 rows x 10 columns]"
      ]
     },
     "execution_count": 111,
     "metadata": {},
     "output_type": "execute_result"
    }
   ],
   "source": [
    "test"
   ]
  },
  {
   "cell_type": "code",
   "execution_count": 112,
   "id": "100a439f",
   "metadata": {},
   "outputs": [
    {
     "data": {
      "text/html": [
       "<style>#sk-container-id-3 {color: black;background-color: white;}#sk-container-id-3 pre{padding: 0;}#sk-container-id-3 div.sk-toggleable {background-color: white;}#sk-container-id-3 label.sk-toggleable__label {cursor: pointer;display: block;width: 100%;margin-bottom: 0;padding: 0.3em;box-sizing: border-box;text-align: center;}#sk-container-id-3 label.sk-toggleable__label-arrow:before {content: \"▸\";float: left;margin-right: 0.25em;color: #696969;}#sk-container-id-3 label.sk-toggleable__label-arrow:hover:before {color: black;}#sk-container-id-3 div.sk-estimator:hover label.sk-toggleable__label-arrow:before {color: black;}#sk-container-id-3 div.sk-toggleable__content {max-height: 0;max-width: 0;overflow: hidden;text-align: left;background-color: #f0f8ff;}#sk-container-id-3 div.sk-toggleable__content pre {margin: 0.2em;color: black;border-radius: 0.25em;background-color: #f0f8ff;}#sk-container-id-3 input.sk-toggleable__control:checked~div.sk-toggleable__content {max-height: 200px;max-width: 100%;overflow: auto;}#sk-container-id-3 input.sk-toggleable__control:checked~label.sk-toggleable__label-arrow:before {content: \"▾\";}#sk-container-id-3 div.sk-estimator input.sk-toggleable__control:checked~label.sk-toggleable__label {background-color: #d4ebff;}#sk-container-id-3 div.sk-label input.sk-toggleable__control:checked~label.sk-toggleable__label {background-color: #d4ebff;}#sk-container-id-3 input.sk-hidden--visually {border: 0;clip: rect(1px 1px 1px 1px);clip: rect(1px, 1px, 1px, 1px);height: 1px;margin: -1px;overflow: hidden;padding: 0;position: absolute;width: 1px;}#sk-container-id-3 div.sk-estimator {font-family: monospace;background-color: #f0f8ff;border: 1px dotted black;border-radius: 0.25em;box-sizing: border-box;margin-bottom: 0.5em;}#sk-container-id-3 div.sk-estimator:hover {background-color: #d4ebff;}#sk-container-id-3 div.sk-parallel-item::after {content: \"\";width: 100%;border-bottom: 1px solid gray;flex-grow: 1;}#sk-container-id-3 div.sk-label:hover label.sk-toggleable__label {background-color: #d4ebff;}#sk-container-id-3 div.sk-serial::before {content: \"\";position: absolute;border-left: 1px solid gray;box-sizing: border-box;top: 0;bottom: 0;left: 50%;z-index: 0;}#sk-container-id-3 div.sk-serial {display: flex;flex-direction: column;align-items: center;background-color: white;padding-right: 0.2em;padding-left: 0.2em;position: relative;}#sk-container-id-3 div.sk-item {position: relative;z-index: 1;}#sk-container-id-3 div.sk-parallel {display: flex;align-items: stretch;justify-content: center;background-color: white;position: relative;}#sk-container-id-3 div.sk-item::before, #sk-container-id-3 div.sk-parallel-item::before {content: \"\";position: absolute;border-left: 1px solid gray;box-sizing: border-box;top: 0;bottom: 0;left: 50%;z-index: -1;}#sk-container-id-3 div.sk-parallel-item {display: flex;flex-direction: column;z-index: 1;position: relative;background-color: white;}#sk-container-id-3 div.sk-parallel-item:first-child::after {align-self: flex-end;width: 50%;}#sk-container-id-3 div.sk-parallel-item:last-child::after {align-self: flex-start;width: 50%;}#sk-container-id-3 div.sk-parallel-item:only-child::after {width: 0;}#sk-container-id-3 div.sk-dashed-wrapped {border: 1px dashed gray;margin: 0 0.4em 0.5em 0.4em;box-sizing: border-box;padding-bottom: 0.4em;background-color: white;}#sk-container-id-3 div.sk-label label {font-family: monospace;font-weight: bold;display: inline-block;line-height: 1.2em;}#sk-container-id-3 div.sk-label-container {text-align: center;}#sk-container-id-3 div.sk-container {/* jupyter's `normalize.less` sets `[hidden] { display: none; }` but bootstrap.min.css set `[hidden] { display: none !important; }` so we also need the `!important` here to be able to override the default hidden behavior on the sphinx rendered scikit-learn.org. See: https://github.com/scikit-learn/scikit-learn/issues/21755 */display: inline-block !important;position: relative;}#sk-container-id-3 div.sk-text-repr-fallback {display: none;}</style><div id=\"sk-container-id-3\" class=\"sk-top-container\"><div class=\"sk-text-repr-fallback\"><pre>Ridge(alpha=0.1)</pre><b>In a Jupyter environment, please rerun this cell to show the HTML representation or trust the notebook. <br />On GitHub, the HTML representation is unable to render, please try loading this page with nbviewer.org.</b></div><div class=\"sk-container\" hidden><div class=\"sk-item\"><div class=\"sk-estimator sk-toggleable\"><input class=\"sk-toggleable__control sk-hidden--visually\" id=\"sk-estimator-id-3\" type=\"checkbox\" checked><label for=\"sk-estimator-id-3\" class=\"sk-toggleable__label sk-toggleable__label-arrow\">Ridge</label><div class=\"sk-toggleable__content\"><pre>Ridge(alpha=0.1)</pre></div></div></div></div></div>"
      ],
      "text/plain": [
       "Ridge(alpha=0.1)"
      ]
     },
     "execution_count": 112,
     "metadata": {},
     "output_type": "execute_result"
    }
   ],
   "source": [
    "reg.fit(train[predictors], train['target'])"
   ]
  },
  {
   "cell_type": "code",
   "execution_count": 113,
   "id": "811357d5",
   "metadata": {},
   "outputs": [],
   "source": [
    "predictions = reg.predict(test[predictors])"
   ]
  },
  {
   "cell_type": "code",
   "execution_count": 114,
   "id": "1f95b8bf",
   "metadata": {},
   "outputs": [],
   "source": [
    "from sklearn.metrics import mean_squared_error"
   ]
  },
  {
   "cell_type": "code",
   "execution_count": 115,
   "id": "8daf9eb1",
   "metadata": {},
   "outputs": [
    {
     "data": {
      "text/plain": [
       "18.65739664430247"
      ]
     },
     "execution_count": 115,
     "metadata": {},
     "output_type": "execute_result"
    }
   ],
   "source": [
    "mean_squared_error(test['target'], predictions)"
   ]
  },
  {
   "cell_type": "code",
   "execution_count": 116,
   "id": "b072ecea",
   "metadata": {},
   "outputs": [],
   "source": [
    "combined = pd.concat([test['target'], pd.Series(predictions, index=test.index)], axis=1)\n",
    "combined.columns = ['actual', 'predictions']"
   ]
  },
  {
   "cell_type": "code",
   "execution_count": 117,
   "id": "a49902dc",
   "metadata": {},
   "outputs": [
    {
     "data": {
      "text/html": [
       "<div>\n",
       "<style scoped>\n",
       "    .dataframe tbody tr th:only-of-type {\n",
       "        vertical-align: middle;\n",
       "    }\n",
       "\n",
       "    .dataframe tbody tr th {\n",
       "        vertical-align: top;\n",
       "    }\n",
       "\n",
       "    .dataframe thead th {\n",
       "        text-align: right;\n",
       "    }\n",
       "</style>\n",
       "<table border=\"1\" class=\"dataframe\">\n",
       "  <thead>\n",
       "    <tr style=\"text-align: right;\">\n",
       "      <th></th>\n",
       "      <th>actual</th>\n",
       "      <th>predictions</th>\n",
       "    </tr>\n",
       "    <tr>\n",
       "      <th>DATE</th>\n",
       "      <th></th>\n",
       "      <th></th>\n",
       "    </tr>\n",
       "  </thead>\n",
       "  <tbody>\n",
       "    <tr>\n",
       "      <th>2021-01-01</th>\n",
       "      <td>68.0</td>\n",
       "      <td>80.977714</td>\n",
       "    </tr>\n",
       "    <tr>\n",
       "      <th>2021-01-02</th>\n",
       "      <td>68.0</td>\n",
       "      <td>73.497677</td>\n",
       "    </tr>\n",
       "    <tr>\n",
       "      <th>2021-01-03</th>\n",
       "      <td>68.0</td>\n",
       "      <td>75.516807</td>\n",
       "    </tr>\n",
       "    <tr>\n",
       "      <th>2021-01-04</th>\n",
       "      <td>68.0</td>\n",
       "      <td>76.862893</td>\n",
       "    </tr>\n",
       "    <tr>\n",
       "      <th>2021-01-05</th>\n",
       "      <td>68.0</td>\n",
       "      <td>77.535936</td>\n",
       "    </tr>\n",
       "    <tr>\n",
       "      <th>...</th>\n",
       "      <td>...</td>\n",
       "      <td>...</td>\n",
       "    </tr>\n",
       "    <tr>\n",
       "      <th>2022-11-05</th>\n",
       "      <td>83.0</td>\n",
       "      <td>81.076466</td>\n",
       "    </tr>\n",
       "    <tr>\n",
       "      <th>2022-11-06</th>\n",
       "      <td>83.0</td>\n",
       "      <td>80.739945</td>\n",
       "    </tr>\n",
       "    <tr>\n",
       "      <th>2022-11-07</th>\n",
       "      <td>83.0</td>\n",
       "      <td>81.076466</td>\n",
       "    </tr>\n",
       "    <tr>\n",
       "      <th>2022-11-08</th>\n",
       "      <td>83.0</td>\n",
       "      <td>80.739945</td>\n",
       "    </tr>\n",
       "    <tr>\n",
       "      <th>2022-11-09</th>\n",
       "      <td>83.0</td>\n",
       "      <td>81.412988</td>\n",
       "    </tr>\n",
       "  </tbody>\n",
       "</table>\n",
       "<p>675 rows × 2 columns</p>\n",
       "</div>"
      ],
      "text/plain": [
       "            actual  predictions\n",
       "DATE                           \n",
       "2021-01-01    68.0    80.977714\n",
       "2021-01-02    68.0    73.497677\n",
       "2021-01-03    68.0    75.516807\n",
       "2021-01-04    68.0    76.862893\n",
       "2021-01-05    68.0    77.535936\n",
       "...            ...          ...\n",
       "2022-11-05    83.0    81.076466\n",
       "2022-11-06    83.0    80.739945\n",
       "2022-11-07    83.0    81.076466\n",
       "2022-11-08    83.0    80.739945\n",
       "2022-11-09    83.0    81.412988\n",
       "\n",
       "[675 rows x 2 columns]"
      ]
     },
     "execution_count": 117,
     "metadata": {},
     "output_type": "execute_result"
    }
   ],
   "source": [
    "combined"
   ]
  },
  {
   "cell_type": "code",
   "execution_count": 118,
   "id": "265d7612",
   "metadata": {},
   "outputs": [
    {
     "data": {
      "image/png": "[encoded data removed]",
      "text/plain": [
       "<Figure size 640x480 with 1 Axes>"
      ]
     },
     "metadata": {},
     "output_type": "display_data"
    }
   ],
   "source": [
    "combined.plot();"
   ]
  },
  {
   "cell_type": "code",
   "execution_count": 123,
   "id": "4d679f66",
   "metadata": {},
   "outputs": [
    {
     "data": {
      "text/plain": [
       "array([-1.28563648,  0.40440446,  0.33652159,  0.0468294 ])"
      ]
     },
     "execution_count": 123,
     "metadata": {},
     "output_type": "execute_result"
    }
   ],
   "source": [
    "reg.coef_"
   ]
  },
  {
   "cell_type": "code",
   "execution_count": 124,
   "id": "b742be69",
   "metadata": {},
   "outputs": [],
   "source": [
    "core_weather['month_max'] = core_weather['max_temp'].rolling(30).mean()\n",
    "\n",
    "core_weather['month_day_max'] = core_weather['month_max'] / core_weather['max_temp']\n",
    "\n",
    "core_weather['max_min'] = core_weather['max_temp'] / core_weather['min_temp']"
   ]
  },
  {
   "cell_type": "code",
   "execution_count": 125,
   "id": "35f51dc1",
   "metadata": {},
   "outputs": [],
   "source": [
    "core_weather = core_weather.iloc[30:,:].copy()"
   ]
  },
  {
   "cell_type": "code",
   "execution_count": 126,
   "id": "1975c1fa",
   "metadata": {},
   "outputs": [],
   "source": [
    "def create_predictions(predictors, core_weather, reg):\n",
    "    train = core_weather.loc[:\"2012-12-31\"]\n",
    "    test = core_weather.loc[\"2021-01-01\":]\n",
    "    \n",
    "    reg.fit(train[predictors], train['target'])\n",
    "    predictions = reg.predict(test[predictors])\n",
    "\n",
    "    error = mean_squared_error(test['target'], predictions)\n",
    "    \n",
    "    combined = pd.concat([test['target'], pd.Series(predictions, index=test.index)], axis=1)\n",
    "    combined.columns = ['actual', 'predictions']\n",
    "    return error, combined"
   ]
  },
  {
   "cell_type": "code",
   "execution_count": 127,
   "id": "1024d6e1",
   "metadata": {},
   "outputs": [
    {
     "data": {
      "text/plain": [
       "18.15500100970387"
      ]
     },
     "execution_count": 127,
     "metadata": {},
     "output_type": "execute_result"
    }
   ],
   "source": [
    "predictors = ['precipitation', 'avg_temp', 'max_temp', 'min_temp', 'month_max', 'month_day_max', 'max_min']\n",
    "\n",
    "error, combined = create_predictions(predictors, core_weather, reg)\n",
    "error"
   ]
  },
  {
   "cell_type": "code",
   "execution_count": 128,
   "id": "48169227",
   "metadata": {},
   "outputs": [
    {
     "data": {
      "image/png": "[encoded data removed]",
      "text/plain": [
       "<Figure size 640x480 with 1 Axes>"
      ]
     },
     "metadata": {},
     "output_type": "display_data"
    }
   ],
   "source": [
    "combined.plot();"
   ]
  },
  {
   "cell_type": "code",
   "execution_count": 129,
   "id": "9fce36bc",
   "metadata": {},
   "outputs": [],
   "source": [
    "core_weather['monthly_avg'] = core_weather['max_temp'].groupby(core_weather.index.month).apply(lambda x: x.expanding(1).mean())\n",
    "core_weather['day_of_year_avg'] = core_weather['max_temp'].groupby(core_weather.index.day_of_year).apply(lambda x: x.expanding(1).mean())"
   ]
  },
  {
   "cell_type": "code",
   "execution_count": 130,
   "id": "778eb577",
   "metadata": {},
   "outputs": [
    {
     "data": {
      "text/plain": [
       "15.82293116263731"
      ]
     },
     "execution_count": 130,
     "metadata": {},
     "output_type": "execute_result"
    }
   ],
   "source": [
    "error, combined = create_predictions(predictors + ['monthly_avg', 'day_of_year_avg'], core_weather, reg)\n",
    "error"
   ]
  },
  {
   "cell_type": "code",
   "execution_count": 131,
   "id": "7711599f",
   "metadata": {},
   "outputs": [
    {
     "data": {
      "text/plain": [
       "array([-1.12467467,  0.36322028,  0.59221053, -0.12945221,  0.15862338,\n",
       "       -0.99603529, -7.51238357, -0.07769769, -0.12056829])"
      ]
     },
     "execution_count": 131,
     "metadata": {},
     "output_type": "execute_result"
    }
   ],
   "source": [
    "reg.coef_"
   ]
  },
  {
   "cell_type": "code",
   "execution_count": 132,
   "id": "47ee4bdd",
   "metadata": {},
   "outputs": [
    {
     "data": {
      "text/plain": [
       "precipitation     -0.095715\n",
       "avg_temp           0.624095\n",
       "max_temp           0.651419\n",
       "min_temp           0.381272\n",
       "target             1.000000\n",
       "month_max          0.491624\n",
       "month_day_max     -0.450106\n",
       "max_min            0.029388\n",
       "monthly_avg        0.454452\n",
       "day_of_year_avg    0.509836\n",
       "Name: target, dtype: float64"
      ]
     },
     "execution_count": 132,
     "metadata": {},
     "output_type": "execute_result"
    }
   ],
   "source": [
    "core_weather.corr()['target']"
   ]
  },
  {
   "cell_type": "code",
   "execution_count": 133,
   "id": "8a64eaf9",
   "metadata": {},
   "outputs": [],
   "source": [
    "combined['diff'] = (combined['actual'] - combined['predictions']).abs()"
   ]
  },
  {
   "cell_type": "code",
   "execution_count": 134,
   "id": "e7bd2fc8",
   "metadata": {},
   "outputs": [
    {
     "data": {
      "text/html": [
       "<div>\n",
       "<style scoped>\n",
       "    .dataframe tbody tr th:only-of-type {\n",
       "        vertical-align: middle;\n",
       "    }\n",
       "\n",
       "    .dataframe tbody tr th {\n",
       "        vertical-align: top;\n",
       "    }\n",
       "\n",
       "    .dataframe thead th {\n",
       "        text-align: right;\n",
       "    }\n",
       "</style>\n",
       "<table border=\"1\" class=\"dataframe\">\n",
       "  <thead>\n",
       "    <tr style=\"text-align: right;\">\n",
       "      <th></th>\n",
       "      <th>actual</th>\n",
       "      <th>predictions</th>\n",
       "      <th>diff</th>\n",
       "    </tr>\n",
       "    <tr>\n",
       "      <th>DATE</th>\n",
       "      <th></th>\n",
       "      <th></th>\n",
       "      <th></th>\n",
       "    </tr>\n",
       "  </thead>\n",
       "  <tbody>\n",
       "    <tr>\n",
       "      <th>2021-10-13</th>\n",
       "      <td>103.0</td>\n",
       "      <td>80.676479</td>\n",
       "      <td>22.323521</td>\n",
       "    </tr>\n",
       "    <tr>\n",
       "      <th>2021-10-22</th>\n",
       "      <td>95.0</td>\n",
       "      <td>78.543550</td>\n",
       "      <td>16.456450</td>\n",
       "    </tr>\n",
       "    <tr>\n",
       "      <th>2021-10-15</th>\n",
       "      <td>75.0</td>\n",
       "      <td>90.030866</td>\n",
       "      <td>15.030866</td>\n",
       "    </tr>\n",
       "    <tr>\n",
       "      <th>2021-08-28</th>\n",
       "      <td>65.0</td>\n",
       "      <td>79.757430</td>\n",
       "      <td>14.757430</td>\n",
       "    </tr>\n",
       "    <tr>\n",
       "      <th>2021-06-29</th>\n",
       "      <td>95.0</td>\n",
       "      <td>80.273279</td>\n",
       "      <td>14.726721</td>\n",
       "    </tr>\n",
       "    <tr>\n",
       "      <th>2021-06-27</th>\n",
       "      <td>87.0</td>\n",
       "      <td>73.157600</td>\n",
       "      <td>13.842400</td>\n",
       "    </tr>\n",
       "    <tr>\n",
       "      <th>2021-04-18</th>\n",
       "      <td>91.0</td>\n",
       "      <td>77.419673</td>\n",
       "      <td>13.580327</td>\n",
       "    </tr>\n",
       "    <tr>\n",
       "      <th>2021-05-19</th>\n",
       "      <td>90.0</td>\n",
       "      <td>76.732244</td>\n",
       "      <td>13.267756</td>\n",
       "    </tr>\n",
       "    <tr>\n",
       "      <th>2021-08-25</th>\n",
       "      <td>90.0</td>\n",
       "      <td>76.892363</td>\n",
       "      <td>13.107637</td>\n",
       "    </tr>\n",
       "    <tr>\n",
       "      <th>2021-08-26</th>\n",
       "      <td>99.0</td>\n",
       "      <td>85.905953</td>\n",
       "      <td>13.094047</td>\n",
       "    </tr>\n",
       "  </tbody>\n",
       "</table>\n",
       "</div>"
      ],
      "text/plain": [
       "            actual  predictions       diff\n",
       "DATE                                      \n",
       "2021-10-13   103.0    80.676479  22.323521\n",
       "2021-10-22    95.0    78.543550  16.456450\n",
       "2021-10-15    75.0    90.030866  15.030866\n",
       "2021-08-28    65.0    79.757430  14.757430\n",
       "2021-06-29    95.0    80.273279  14.726721\n",
       "2021-06-27    87.0    73.157600  13.842400\n",
       "2021-04-18    91.0    77.419673  13.580327\n",
       "2021-05-19    90.0    76.732244  13.267756\n",
       "2021-08-25    90.0    76.892363  13.107637\n",
       "2021-08-26    99.0    85.905953  13.094047"
      ]
     },
     "execution_count": 134,
     "metadata": {},
     "output_type": "execute_result"
    }
   ],
   "source": [
    "combined.sort_values(\"diff\", ascending=False).head(10)"
   ]
  },
  {
   "cell_type": "code",
   "execution_count": 135,
   "id": "a5938b14",
   "metadata": {},
   "outputs": [
    {
     "data": {
      "text/html": [
       "<div>\n",
       "<style scoped>\n",
       "    .dataframe tbody tr th:only-of-type {\n",
       "        vertical-align: middle;\n",
       "    }\n",
       "\n",
       "    .dataframe tbody tr th {\n",
       "        vertical-align: top;\n",
       "    }\n",
       "\n",
       "    .dataframe thead th {\n",
       "        text-align: right;\n",
       "    }\n",
       "</style>\n",
       "<table border=\"1\" class=\"dataframe\">\n",
       "  <thead>\n",
       "    <tr style=\"text-align: right;\">\n",
       "      <th></th>\n",
       "      <th>precipitation</th>\n",
       "      <th>avg_temp</th>\n",
       "      <th>max_temp</th>\n",
       "      <th>min_temp</th>\n",
       "      <th>target</th>\n",
       "      <th>month_max</th>\n",
       "      <th>month_day_max</th>\n",
       "      <th>max_min</th>\n",
       "      <th>monthly_avg</th>\n",
       "      <th>day_of_year_avg</th>\n",
       "    </tr>\n",
       "    <tr>\n",
       "      <th>DATE</th>\n",
       "      <th></th>\n",
       "      <th></th>\n",
       "      <th></th>\n",
       "      <th></th>\n",
       "      <th></th>\n",
       "      <th></th>\n",
       "      <th></th>\n",
       "      <th></th>\n",
       "      <th></th>\n",
       "      <th></th>\n",
       "    </tr>\n",
       "  </thead>\n",
       "  <tbody>\n",
       "    <tr>\n",
       "      <th>2022-11-01</th>\n",
       "      <td>0.17</td>\n",
       "      <td>63</td>\n",
       "      <td>83.0</td>\n",
       "      <td>50.0</td>\n",
       "      <td>83.0</td>\n",
       "      <td>83.0</td>\n",
       "      <td>1.0</td>\n",
       "      <td>1.66</td>\n",
       "      <td>78.576177</td>\n",
       "      <td>74.692308</td>\n",
       "    </tr>\n",
       "    <tr>\n",
       "      <th>2022-11-02</th>\n",
       "      <td>0.17</td>\n",
       "      <td>67</td>\n",
       "      <td>83.0</td>\n",
       "      <td>50.0</td>\n",
       "      <td>83.0</td>\n",
       "      <td>83.0</td>\n",
       "      <td>1.0</td>\n",
       "      <td>1.66</td>\n",
       "      <td>78.588398</td>\n",
       "      <td>76.615385</td>\n",
       "    </tr>\n",
       "    <tr>\n",
       "      <th>2022-11-03</th>\n",
       "      <td>0.17</td>\n",
       "      <td>70</td>\n",
       "      <td>83.0</td>\n",
       "      <td>50.0</td>\n",
       "      <td>83.0</td>\n",
       "      <td>83.0</td>\n",
       "      <td>1.0</td>\n",
       "      <td>1.66</td>\n",
       "      <td>78.600551</td>\n",
       "      <td>78.307692</td>\n",
       "    </tr>\n",
       "    <tr>\n",
       "      <th>2022-11-04</th>\n",
       "      <td>0.17</td>\n",
       "      <td>72</td>\n",
       "      <td>83.0</td>\n",
       "      <td>50.0</td>\n",
       "      <td>83.0</td>\n",
       "      <td>83.0</td>\n",
       "      <td>1.0</td>\n",
       "      <td>1.66</td>\n",
       "      <td>78.612637</td>\n",
       "      <td>78.538462</td>\n",
       "    </tr>\n",
       "    <tr>\n",
       "      <th>2022-11-05</th>\n",
       "      <td>0.17</td>\n",
       "      <td>72</td>\n",
       "      <td>83.0</td>\n",
       "      <td>50.0</td>\n",
       "      <td>83.0</td>\n",
       "      <td>83.0</td>\n",
       "      <td>1.0</td>\n",
       "      <td>1.66</td>\n",
       "      <td>78.624658</td>\n",
       "      <td>81.769231</td>\n",
       "    </tr>\n",
       "    <tr>\n",
       "      <th>2022-11-06</th>\n",
       "      <td>0.17</td>\n",
       "      <td>71</td>\n",
       "      <td>83.0</td>\n",
       "      <td>50.0</td>\n",
       "      <td>83.0</td>\n",
       "      <td>83.0</td>\n",
       "      <td>1.0</td>\n",
       "      <td>1.66</td>\n",
       "      <td>78.636612</td>\n",
       "      <td>79.000000</td>\n",
       "    </tr>\n",
       "    <tr>\n",
       "      <th>2022-11-07</th>\n",
       "      <td>0.17</td>\n",
       "      <td>72</td>\n",
       "      <td>83.0</td>\n",
       "      <td>50.0</td>\n",
       "      <td>83.0</td>\n",
       "      <td>83.0</td>\n",
       "      <td>1.0</td>\n",
       "      <td>1.66</td>\n",
       "      <td>78.648501</td>\n",
       "      <td>77.307692</td>\n",
       "    </tr>\n",
       "    <tr>\n",
       "      <th>2022-11-08</th>\n",
       "      <td>0.17</td>\n",
       "      <td>71</td>\n",
       "      <td>83.0</td>\n",
       "      <td>50.0</td>\n",
       "      <td>83.0</td>\n",
       "      <td>83.0</td>\n",
       "      <td>1.0</td>\n",
       "      <td>1.66</td>\n",
       "      <td>78.660326</td>\n",
       "      <td>77.769231</td>\n",
       "    </tr>\n",
       "    <tr>\n",
       "      <th>2022-11-09</th>\n",
       "      <td>0.17</td>\n",
       "      <td>73</td>\n",
       "      <td>83.0</td>\n",
       "      <td>50.0</td>\n",
       "      <td>83.0</td>\n",
       "      <td>83.0</td>\n",
       "      <td>1.0</td>\n",
       "      <td>1.66</td>\n",
       "      <td>78.672087</td>\n",
       "      <td>78.307692</td>\n",
       "    </tr>\n",
       "  </tbody>\n",
       "</table>\n",
       "</div>"
      ],
      "text/plain": [
       "            precipitation  avg_temp  max_temp  min_temp  target  month_max  \\\n",
       "DATE                                                                         \n",
       "2022-11-01           0.17        63      83.0      50.0    83.0       83.0   \n",
       "2022-11-02           0.17        67      83.0      50.0    83.0       83.0   \n",
       "2022-11-03           0.17        70      83.0      50.0    83.0       83.0   \n",
       "2022-11-04           0.17        72      83.0      50.0    83.0       83.0   \n",
       "2022-11-05           0.17        72      83.0      50.0    83.0       83.0   \n",
       "2022-11-06           0.17        71      83.0      50.0    83.0       83.0   \n",
       "2022-11-07           0.17        72      83.0      50.0    83.0       83.0   \n",
       "2022-11-08           0.17        71      83.0      50.0    83.0       83.0   \n",
       "2022-11-09           0.17        73      83.0      50.0    83.0       83.0   \n",
       "\n",
       "            month_day_max  max_min  monthly_avg  day_of_year_avg  \n",
       "DATE                                                              \n",
       "2022-11-01            1.0     1.66    78.576177        74.692308  \n",
       "2022-11-02            1.0     1.66    78.588398        76.615385  \n",
       "2022-11-03            1.0     1.66    78.600551        78.307692  \n",
       "2022-11-04            1.0     1.66    78.612637        78.538462  \n",
       "2022-11-05            1.0     1.66    78.624658        81.769231  \n",
       "2022-11-06            1.0     1.66    78.636612        79.000000  \n",
       "2022-11-07            1.0     1.66    78.648501        77.307692  \n",
       "2022-11-08            1.0     1.66    78.660326        77.769231  \n",
       "2022-11-09            1.0     1.66    78.672087        78.307692  "
      ]
     },
     "execution_count": 135,
     "metadata": {},
     "output_type": "execute_result"
    }
   ],
   "source": [
    "core_weather.loc['2022-11-01':'2022-11-11']"
   ]
  }
 ],
 "metadata": {
  "kernelspec": {
   "display_name": "Python 3 (ipykernel)",
   "language": "python",
   "name": "python3"
  },
  "language_info": {
   "codemirror_mode": {
    "name": "ipython",
    "version": 3
   },
   "file_extension": ".py",
   "mimetype": "text/x-python",
   "name": "python",
   "nbconvert_exporter": "python",
   "pygments_lexer": "ipython3",
   "version": "3.10.4"
  }
 },
 "nbformat": 4,
 "nbformat_minor": 5
}
